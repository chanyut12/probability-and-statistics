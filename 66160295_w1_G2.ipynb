{
  "cells": [
    {
      "cell_type": "markdown",
      "metadata": {
        "id": "view-in-github",
        "colab_type": "text"
      },
      "source": [
        "<a href=\"https://colab.research.google.com/github/chanyut12/probability-and-statistics/blob/main/66160295_w1_G2.ipynb\" target=\"_parent\"><img src=\"https://colab.research.google.com/assets/colab-badge.svg\" alt=\"Open In Colab\"/></a>"
      ]
    },
    {
      "cell_type": "markdown",
      "metadata": {
        "id": "InfjT-JTf0EO"
      },
      "source": [
        "**ให้นิสิต เลือกเมนู File-->Save a copy in drive เพื่อคัดลอกไฟล์ไปไว้ในไดร์ฟของนิสิตก่อน และเปลี่ยนชื่อไฟล์เป็น รหัสนิสิต_w1 ค่ะ**\n",
        "\n",
        "จงเขียนโปรแกรม เพื่อหาค่าที่โจทย์ต้องการและแสดงผลลัพธ์ออกทางหน้าจอ\n",
        "\n",
        "1. จงสร้างอาร์เรย์ 1 มิติ ที่มีสมาชิกเป็นเลขสุ่มที่เป็นจำนวนเต็มที่มีค่า 1 ถึง 20 จำนวน 24 ตัว\n",
        "\n",
        "2. จงเรียงลำดับข้อมูลของอาร์เรย์ที่ได้จากข้อ 1. โดยเรียงจากค่าน้อยไปค่ามาก และเรียงจากค่ามากไปค่าน้อย\n",
        "\n",
        "3. จงหาค่ามากที่สุด ค่าน้อยที่สุด ของอาร์เรย์ในข้อ 1.\n",
        "\n",
        "4. จงหาค่าเฉลี่ย ค่ามัธยฐาน ค่าฐานนิยม ของอาร์เรย์ในข้อ 1.\n",
        "\n",
        "5. จงเปลี่ยนมิติของอาร์เรย์ที่ได้จากข้อ 1. เป็นอาร์เรย์ 2 มิติขนาด 6 แถว 4 คอลัมน์\n",
        "\n",
        "6. จงเรียงลำดับข้อมูลของอาร์เรย์ที่ได้จากข้อ 5. ตามแนวแถว และแนวคอลัมน์ โดยเรียงจากค่าน้อยไปค่ามาก\n",
        "\n",
        "7. จงหาค่าเฉลี่ย ค่ามัธยฐาน ค่าฐานนิยม ในแต่ละแถว และในแต่ละคอลัมน์ของอาร์เรย์ในข้อ 5.\n",
        "\n",
        "8. จงเปลี่ยนมิติของอาร์เรย์ที่ได้จากข้อ 5. กลับเป็นอาร์เรย์ 1 มิติที่มีสมาชิก 24 ตัว ซึ่งจะได้ผลลัพธ์เหมือนกับข้อ 1.\n",
        "\n",
        "9. จงสร้างข้อมูลแบบสุ่มของอาชีพ (doctor, barber, trader, programmer) คนที่มาอบรมโครงการเรียนรู้เพื่อสุขภาวะจิต จำนวน 50 คน\n",
        "\n",
        "10. จงสร้างตารางแจกแจงความถี่ของอาร์เรย์ในข้อ 9. แสดงจำนวนคนที่มาอบรมโครงการ แยกตามแต่ละอาชีพ\n",
        "\n",
        "\n",
        "\n"
      ]
    },
    {
      "cell_type": "code",
      "execution_count": null,
      "metadata": {
        "id": "u4112FsPqUdo"
      },
      "outputs": [],
      "source": [
        "#ชื่อ................รหัส.........\n"
      ]
    },
    {
      "cell_type": "code",
      "execution_count": null,
      "metadata": {
        "colab": {
          "base_uri": "https://localhost:8080/"
        },
        "id": "kWl3IDJPQQOl",
        "outputId": "5f296a18-b87b-42dd-dfb8-383f69b89bd1"
      },
      "outputs": [
        {
          "output_type": "stream",
          "name": "stdout",
          "text": [
            "Requirement already satisfied: numpy in /usr/local/lib/python3.10/dist-packages (1.23.5)\n"
          ]
        }
      ],
      "source": [
        "!pip install numpy"
      ]
    },
    {
      "cell_type": "code",
      "execution_count": null,
      "metadata": {
        "colab": {
          "base_uri": "https://localhost:8080/"
        },
        "id": "AkOVU4A6Pngu",
        "outputId": "3df13cf5-ddd0-4823-dec1-b1ae004bd22e"
      },
      "outputs": [
        {
          "output_type": "stream",
          "name": "stdout",
          "text": [
            "[6, 9, 19, 3, 21, 3, 19, 12, 5, 14, 10, 5, 9, 3, 1, 4, 2, 10, 10, 3, 13, 17, 4, 15]\n",
            "[14  7 15 14 16  6 10 19 15 18 10 12 12 18  7  4 18  1 19  8 11  2  3 16]\n"
          ]
        }
      ],
      "source": [
        "#1\n",
        "import random\n",
        "\n",
        "x = [random.randint(1,21) for i in range(24)]\n",
        "y = np.random.randint(1,21,24)\n",
        "print(x)\n",
        "print(y)"
      ]
    },
    {
      "cell_type": "code",
      "execution_count": null,
      "metadata": {
        "colab": {
          "base_uri": "https://localhost:8080/"
        },
        "id": "7gK2hXcEQJtm",
        "outputId": "f00286f1-6f2c-425f-f127-ec2217707cf0"
      },
      "outputs": [
        {
          "output_type": "stream",
          "name": "stdout",
          "text": [
            "[ 1  2  3  3  3  3  4  4  5  5  6  9  9 10 10 10 12 13 14 15 17 19 19 21]\n",
            "[ 1  2  3  3  3  3  4  4  5  5  6  9  9 10 10 10 12 13 14 15 17 19 19 21]\n"
          ]
        }
      ],
      "source": [
        "#2\n",
        "import numpy as np\n",
        "print(np.sort(x))\n",
        "print(np.sort(x))"
      ]
    },
    {
      "cell_type": "code",
      "execution_count": null,
      "metadata": {
        "colab": {
          "base_uri": "https://localhost:8080/"
        },
        "id": "JgNkjlSSQYsl",
        "outputId": "79f44d22-0085-4327-fbcc-50ad18fbec0d"
      },
      "outputs": [
        {
          "output_type": "stream",
          "name": "stdout",
          "text": [
            "21\n",
            "1\n"
          ]
        }
      ],
      "source": [
        "#3\n",
        "print(np.max(x))\n",
        "print(np.min(x))"
      ]
    },
    {
      "cell_type": "code",
      "source": [
        "#4\n",
        "from scipy import stats\n",
        "print(\"mean : \" , np.mean(x))\n",
        "print(\"median : \" , np.median(x))\n",
        "print('mode g (column)=',stats.mode(x))\n"
      ],
      "metadata": {
        "colab": {
          "base_uri": "https://localhost:8080/"
        },
        "id": "tVS9XYoyV8VP",
        "outputId": "e9ca5a63-61e1-45a4-d404-11512c997af1"
      },
      "execution_count": null,
      "outputs": [
        {
          "output_type": "stream",
          "name": "stdout",
          "text": [
            "mean :  9.041666666666666\n",
            "median :  9.0\n",
            "mode g (column)= ModeResult(mode=3, count=4)\n"
          ]
        }
      ]
    },
    {
      "cell_type": "code",
      "execution_count": null,
      "metadata": {
        "colab": {
          "base_uri": "https://localhost:8080/"
        },
        "id": "6lubmkZvQiUN",
        "outputId": "a25e2396-c04e-42fa-d1f9-cb25a38a351d"
      },
      "outputs": [
        {
          "output_type": "stream",
          "name": "stdout",
          "text": [
            "[[ 6  9 19  3]\n",
            " [21  3 19 12]\n",
            " [ 5 14 10  5]\n",
            " [ 9  3  1  4]\n",
            " [ 2 10 10  3]\n",
            " [13 17  4 15]]\n"
          ]
        }
      ],
      "source": [
        "#5\n",
        "import numpy as np\n",
        "x = np.array(x)\n",
        "z = x.reshape(6,4)\n",
        "print(z)"
      ]
    },
    {
      "cell_type": "code",
      "source": [
        "#6\n",
        "print('sorted x (row)=',np.sort(z)) #axis = 1 เรียงตามแถว\n",
        "print('sorted x (column)=',np.sort(z,axis = 0))\n"
      ],
      "metadata": {
        "colab": {
          "base_uri": "https://localhost:8080/"
        },
        "id": "1Ej4aksnUbsn",
        "outputId": "7240a9af-956d-4b3e-cd18-68b9a11a7d69"
      },
      "execution_count": null,
      "outputs": [
        {
          "output_type": "stream",
          "name": "stdout",
          "text": [
            "sorted x (row)= [[ 3  6  9 19]\n",
            " [ 3 12 19 21]\n",
            " [ 5  5 10 14]\n",
            " [ 1  3  4  9]\n",
            " [ 2  3 10 10]\n",
            " [ 4 13 15 17]]\n",
            "sorted x (column)= [[ 2  3  1  3]\n",
            " [ 5  3  4  3]\n",
            " [ 6  9 10  4]\n",
            " [ 9 10 10  5]\n",
            " [13 14 19 12]\n",
            " [21 17 19 15]]\n"
          ]
        }
      ]
    },
    {
      "cell_type": "code",
      "source": [
        "# #7\n",
        "# from scipy import stats\n",
        "\n",
        "# print('mean0 z =',np.mean(z[0] , axis = 0))\n",
        "# print('mean1 z =',np.mean(z[1] , axis = 0))\n",
        "# print('mean2 z =',np.mean(z[2] , axis = 0))\n",
        "# print('mean3 z =',np.mean(z[3] , axis = 0))\n",
        "# print('mean4 z =',np.mean(z[4] , axis = 0))\n",
        "# print('mean5 z =',np.mean(z[5] , axis = 0))\n",
        "\n",
        "# print()\n",
        "\n",
        "# print('median0 z =',np.median(z[0] , axis = 0))\n",
        "# print('median1 z =',np.median(z[1] , axis = 0))\n",
        "# print('median2 z =',np.median(z[2] , axis = 0))\n",
        "# print('median3 z =',np.median(z[3] , axis = 0))\n",
        "# print('median4 z =',np.median(z[4] , axis = 0))\n",
        "# print('median5 z =',np.median(z[5] , axis = 0))\n",
        "\n",
        "# print()\n",
        "# print('mean0 z =',np.mean(z[][0] , axis = 0))\n",
        "# print('mean1 z =',np.mean(z[][1] , axis = 0))\n",
        "# print('mean2 z =',np.mean(z[][2] , axis = 0))\n",
        "# print('mean3 z =',np.mean(z[][3] , axis = 0))\n",
        "# print('mean4 z =',np.mean(z[][4] , axis = 0))\n",
        "# print('mean5 z =',np.mean(z[][5] , axis = 0))\n",
        "\n",
        "# print('mode z (row)=',stats.mode(z , axis = 1))\n",
        "# print('mode z (column)=',stats.mode(z , axis = 0))\n",
        "\n",
        "\n",
        "\n",
        "# print('mean x =',np.median(z , axis = 1))\n",
        "# print('median x =',np.median(x,  axis = 0))\n",
        "# print('mode x (column)=',stats.mode(x))\n"
      ],
      "metadata": {
        "id": "SdX3-5vVU6Dn"
      },
      "execution_count": null,
      "outputs": []
    },
    {
      "cell_type": "code",
      "source": [
        "#7\n",
        "import numpy as np\n",
        "from statistics import median, mode\n",
        "\n",
        "#  each row\n",
        "row_means = np.mean(z, axis=1)\n",
        "row_medians = np.median(z, axis=1)\n",
        "row_modes = [int(mode(row)) for row in z]\n",
        "\n",
        "#  each column\n",
        "column_means = np.mean(z, axis=0)\n",
        "column_medians = np.median(z, axis=0)\n",
        "column_modes = [int(mode(z[:, i])) for i in range(z.shape[1])]\n",
        "\n",
        "# Print the results\n",
        "print(\"Row Means:\", row_means)\n",
        "print(\"Row Medians:\", row_medians)\n",
        "print(\"Row Modes:\", row_modes)\n",
        "print(\"Column Means:\", column_means)\n",
        "print(\"Column Medians:\", column_medians)\n",
        "print(\"Column Modes:\", column_modes)\n",
        "\n"
      ],
      "metadata": {
        "colab": {
          "base_uri": "https://localhost:8080/"
        },
        "id": "WvAQjXQJboxG",
        "outputId": "5c196a48-e4a1-464d-f1f5-e9e1d64a2c1c"
      },
      "execution_count": null,
      "outputs": [
        {
          "output_type": "stream",
          "name": "stdout",
          "text": [
            "Row Means: [ 9.25 13.75  8.5   4.25  6.25 12.25]\n",
            "Row Medians: [ 7.5 15.5  7.5  3.5  6.5 14. ]\n",
            "Row Modes: [6, 21, 5, 9, 10, 13]\n",
            "Column Means: [ 9.33333333  9.33333333 10.5         7.        ]\n",
            "Column Medians: [ 7.5  9.5 10.   4.5]\n",
            "Column Modes: [6, 3, 19, 3]\n"
          ]
        }
      ]
    },
    {
      "cell_type": "code",
      "source": [
        "#8\n",
        "z1 = z.reshape(24)\n",
        "print(z1)"
      ],
      "metadata": {
        "colab": {
          "base_uri": "https://localhost:8080/"
        },
        "id": "M_j2z__RU8Qe",
        "outputId": "b3df9bcb-1f62-41cb-c729-dc616c26a81b"
      },
      "execution_count": null,
      "outputs": [
        {
          "output_type": "stream",
          "name": "stdout",
          "text": [
            "[ 6  9 19  3 21  3 19 12  5 14 10  5  9  3  1  4  2 10 10  3 13 17  4 15]\n"
          ]
        }
      ]
    },
    {
      "cell_type": "code",
      "source": [
        "#9\n",
        "gr = ['doctor','barber','trader','programmer']\n",
        "print(gr)\n",
        "gra = [random.choice(gr) for i in range(50)]\n",
        "print(gra)\n",
        "# print(\"doctor =\",grade.count(\"doctor\"))\n",
        "# print(\"barber =\",grade.count(\"barber\"))\n",
        "# print(\"trader =\",grade.count(\"trader\"))\n",
        "# print(\"programmer =\",grade.count(\"programmer\"))\n",
        "\n",
        "# print(\"all occuoation =\",len(grade))"
      ],
      "metadata": {
        "colab": {
          "base_uri": "https://localhost:8080/"
        },
        "id": "Bh9s5elCU8Iv",
        "outputId": "b867cff4-4b86-460c-feb7-d412974c872b"
      },
      "execution_count": null,
      "outputs": [
        {
          "output_type": "stream",
          "name": "stdout",
          "text": [
            "['doctor', 'barber', 'trader', 'programmer']\n",
            "['trader', 'trader', 'trader', 'trader', 'barber', 'trader', 'doctor', 'doctor', 'programmer', 'programmer', 'trader', 'trader', 'barber', 'trader', 'barber', 'programmer', 'barber', 'barber', 'barber', 'programmer', 'doctor', 'programmer', 'barber', 'trader', 'barber', 'programmer', 'barber', 'programmer', 'trader', 'trader', 'barber', 'programmer', 'barber', 'barber', 'trader', 'doctor', 'trader', 'barber', 'programmer', 'barber', 'trader', 'trader', 'programmer', 'barber', 'doctor', 'programmer', 'programmer', 'barber', 'doctor', 'trader']\n"
          ]
        }
      ]
    },
    {
      "cell_type": "code",
      "source": [
        "#10\n",
        "print(\"doctor =\",gra.count(\"doctor\"))\n",
        "print(\"barber =\",gra.count(\"barber\"))\n",
        "print(\"trader =\",gra.count(\"trader\"))\n",
        "print(\"programmer =\",gra.count(\"programmer\"))\n",
        "print(\"all occuoation =\",len(gra))\n",
        "import pandas as pd\n",
        "a = pd.Series(gra)\n",
        "print(a)\n",
        "a.value_counts() #สำหรับค่าแต่ละค่าในชุด"
      ],
      "metadata": {
        "colab": {
          "base_uri": "https://localhost:8080/"
        },
        "id": "p4dp__GkU79O",
        "outputId": "e9dc3169-3783-4892-abbb-8d94d603938f"
      },
      "execution_count": null,
      "outputs": [
        {
          "output_type": "stream",
          "name": "stdout",
          "text": [
            "doctor = 6\n",
            "barber = 16\n",
            "trader = 16\n",
            "programmer = 12\n",
            "all occuoation = 50\n",
            "0         trader\n",
            "1         trader\n",
            "2         trader\n",
            "3         trader\n",
            "4         barber\n",
            "5         trader\n",
            "6         doctor\n",
            "7         doctor\n",
            "8     programmer\n",
            "9     programmer\n",
            "10        trader\n",
            "11        trader\n",
            "12        barber\n",
            "13        trader\n",
            "14        barber\n",
            "15    programmer\n",
            "16        barber\n",
            "17        barber\n",
            "18        barber\n",
            "19    programmer\n",
            "20        doctor\n",
            "21    programmer\n",
            "22        barber\n",
            "23        trader\n",
            "24        barber\n",
            "25    programmer\n",
            "26        barber\n",
            "27    programmer\n",
            "28        trader\n",
            "29        trader\n",
            "30        barber\n",
            "31    programmer\n",
            "32        barber\n",
            "33        barber\n",
            "34        trader\n",
            "35        doctor\n",
            "36        trader\n",
            "37        barber\n",
            "38    programmer\n",
            "39        barber\n",
            "40        trader\n",
            "41        trader\n",
            "42    programmer\n",
            "43        barber\n",
            "44        doctor\n",
            "45    programmer\n",
            "46    programmer\n",
            "47        barber\n",
            "48        doctor\n",
            "49        trader\n",
            "dtype: object\n"
          ]
        },
        {
          "output_type": "execute_result",
          "data": {
            "text/plain": [
              "trader        16\n",
              "barber        16\n",
              "programmer    12\n",
              "doctor         6\n",
              "dtype: int64"
            ]
          },
          "metadata": {},
          "execution_count": 70
        }
      ]
    }
  ],
  "metadata": {
    "colab": {
      "provenance": [],
      "include_colab_link": true
    },
    "kernelspec": {
      "display_name": "Python 3",
      "name": "python3"
    },
    "language_info": {
      "name": "python"
    }
  },
  "nbformat": 4,
  "nbformat_minor": 0
}