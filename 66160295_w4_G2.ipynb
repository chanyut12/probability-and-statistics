{
  "nbformat": 4,
  "nbformat_minor": 0,
  "metadata": {
    "colab": {
      "provenance": [],
      "include_colab_link": true
    },
    "kernelspec": {
      "name": "python3",
      "display_name": "Python 3"
    },
    "language_info": {
      "name": "python"
    }
  },
  "cells": [
    {
      "cell_type": "markdown",
      "metadata": {
        "id": "view-in-github",
        "colab_type": "text"
      },
      "source": [
        "<a href=\"https://colab.research.google.com/github/chanyut12/probability-and-statistics/blob/main/66160295_w4_G2.ipynb\" target=\"_parent\"><img src=\"https://colab.research.google.com/assets/colab-badge.svg\" alt=\"Open In Colab\"/></a>"
      ]
    },
    {
      "cell_type": "markdown",
      "metadata": {
        "id": "InfjT-JTf0EO"
      },
      "source": [
        "**ให้นิสิต เลือกเมนู File-->Save a copy in drive เพื่อคัดลอกไฟล์ไปไว้ในไดร์ฟของนิสิตก่อน และเปลี่ยนชื่อไฟล์เป็น รหัสนิสิต_w4 ค่ะ**\n",
        "\n",
        "จงเขียนโปรแกรม เพื่อหาค่าที่โจทย์ต้องการและแสดงผลลัพธ์ออกทางหน้าจอ\n",
        "\n",
        "1. ในการโยนเหรียญ 2 เหรียญ และ ลูกเต๋า 3 ลูก พร้อมกัน จงเขียนปริภูมิตัวอย่าง และเขียนเหตุการณ์ที่จะได้ลูกเต๋าหน้า 5 อย่างน้อย 2 ลูก และนับจำนวนสมาชิกของเหตุการณ์\n",
        "\n",
        "2. มีหมวก 4 ใบ เสื้อ 5 ตัว กางเกง 2 ตัว จะสวมหมวก เสื้อ และกางเกง ได้กี่ชุด จงเขียนปริภูมิตัวอย่าง และนับจำนวนสมาชิก\n",
        "\n",
        "3. มีตัวเลขอยู่ 5 ตัว คือ 1-5 ต้องการสร้างจํานวนเต็มบวก 3 หลักที่หารด้วย 4 ลงตัว มีวิธีสร้างอย่างไร กี่วิธี โดยแต่ละหลักมีตัวเลขไม่ซำ้กัน\n",
        "\n",
        "4. กล่องใบหนึ่งมีหลอดไฟดี 5 หลอด และหลอดไฟเสีย 2 หลอดปนกัน สุ่มหยิบหลอดไฟมา 4 หลอด จงหาวิธีที่จะหยิบได้หลอดไฟเสียอย่างน้อยหนึ่งหลอด\n",
        "\n",
        "5. จากคําว่า DESTINY จงหาความน่าจะเป็นที่จะจัดเรียงตัวอักษร 4 ตัวจากคำนี้ โดยกําหนดว่าจะต้องขึ้นด้วยอักษร T\n",
        "\n",
        "6. ในการจัดนักฟุตซอล 8 คน ลงแข่งในแต่ละตำแหน่งที่แตกต่างกัน 5 ตำแหน่ง จงหาความน่าจะเป็นที่จะจัดให้นาย A B และนาย C ลงในตำแหน่งที่ 1 2 และ 3 ตามลำดับ\n",
        "\n",
        "7. มีลูกบอลอยู่ 4 สีคือ ฟ้า แดง เขียว ชมพู สีละ 4 ลูก ต้องการหยิบมา 5 ลูก จงหาความน่าจะเป็นในการหยิบไม่ได้ลูกบอลสีฟ้าเลย\n"
      ]
    },
    {
      "cell_type": "code",
      "execution_count": null,
      "metadata": {
        "id": "VJ_odkz6Q8dc"
      },
      "outputs": [],
      "source": [
        "#ชื่อ.......................รหัส............."
      ]
    },
    {
      "cell_type": "code",
      "source": [
        "#1.ในการโยนเหรียญ 2 เหรียญ และ ลูกเต๋า 3 ลูก พร้อมกัน จงเขียนปริภูมิตัวอย่าง และเขียนเหตุการณ์ที่จะได้ลูกเต๋าหน้า 5 อย่างน้อย 2 ลูก และนับจำนวนสมาชิกของเหตุการณ์\n",
        "f = \"HT\"\n",
        "C = \"123456\"\n",
        "Cf = set(a + b + c + d + e  for a in f for b in f for c in C for d in C for e in C )\n",
        "\n",
        "print(\"Cf = \",Cf)\n",
        "print(\"len(Cf)  = \" , len(Cf))\n",
        "\n",
        "Cff = { x for x in Cf if x.count(\"5\") >= 2}\n",
        "print(\"Cff =\",Cff)\n",
        "print(\"len =\",len(Cff))"
      ],
      "metadata": {
        "colab": {
          "base_uri": "https://localhost:8080/"
        },
        "id": "D9Oy6NeAkJhq",
        "outputId": "53f879f6-61d7-438e-d015-c3c87bf8ac33"
      },
      "execution_count": null,
      "outputs": [
        {
          "output_type": "stream",
          "name": "stdout",
          "text": [
            "Cf =  {'TT624', 'TH132', 'HT363', 'TT221', 'HT336', 'TT523', 'TT331', 'HT523', 'HH133', 'TT543', 'HT312', 'TT262', 'HH554', 'HH435', 'TH141', 'TH131', 'TH563', 'HH224', 'TT235', 'TT466', 'HH614', 'TH425', 'HH535', 'HT651', 'TH265', 'TH442', 'HT261', 'TH436', 'HT255', 'TH321', 'TT514', 'HH536', 'HH532', 'HT116', 'HT642', 'HH214', 'HT624', 'HT461', 'HH516', 'TT564', 'TH631', 'HH622', 'HH654', 'TT163', 'HH232', 'TH444', 'HH165', 'HT126', 'HT234', 'HT146', 'HT246', 'HT416', 'HT436', 'HH643', 'TT625', 'HT326', 'HH436', 'HH426', 'HH663', 'HH422', 'TH116', 'HH122', 'HT212', 'HT342', 'HH353', 'TH611', 'HH322', 'TT216', 'TH222', 'TT126', 'TT142', 'TT162', 'TT445', 'TH112', 'TT166', 'HT556', 'TH226', 'TT214', 'HH161', 'HT464', 'HH456', 'TT236', 'HH132', 'TH311', 'TT665', 'TT645', 'HH255', 'TT566', 'HT225', 'TH464', 'HT232', 'TH134', 'TT326', 'TT242', 'TT436', 'HT364', 'HH245', 'TT143', 'HT311', 'HT566', 'TT165', 'TT131', 'TH665', 'HH615', 'HT666', 'HT452', 'HT644', 'TT324', 'HT151', 'TH536', 'TT551', 'HT632', 'TT342', 'TT256', 'TT251', 'HH356', 'TT612', 'HH116', 'HH266', 'HT421', 'HT536', 'HH626', 'TT463', 'HT314', 'TT416', 'HT331', 'HH351', 'HT323', 'HH125', 'HT134', 'TT312', 'HT154', 'TT211', 'TT361', 'TT636', 'TH515', 'HH556', 'HT531', 'HT263', 'TH623', 'HT241', 'HT133', 'TH136', 'TH163', 'HH253', 'HT243', 'TT442', 'TT136', 'TH414', 'TT265', 'TT252', 'TH351', 'TT362', 'TT524', 'HT511', 'HT254', 'TH516', 'HT465', 'HT252', 'TH155', 'HH652', 'TH161', 'TH335', 'HH661', 'HH653', 'HT513', 'HH655', 'TH264', 'TT533', 'TT444', 'TT344', 'HT245', 'HT223', 'TH126', 'TT554', 'HT136', 'TT146', 'TT651', 'HT414', 'TT352', 'TT325', 'TT115', 'TT653', 'TH221', 'TH646', 'HT521', 'HT121', 'HH442', 'HT663', 'TT422', 'HT535', 'TH411', 'TH422', 'HH566', 'HH463', 'TH232', 'TT232', 'HH444', 'HT542', 'TH426', 'TH524', 'TT513', 'HH512', 'HH334', 'HT656', 'TT245', 'HH464', 'HT113', 'TT243', 'HH411', 'TT315', 'HT216', 'HT661', 'HH141', 'TT366', 'TH421', 'TT635', 'HH362', 'HT144', 'TH355', 'HH252', 'TH451', 'TH461', 'TT451', 'HT253', 'TT664', 'TH243', 'TH643', 'TT351', 'TT435', 'TH323', 'TH434', 'TH622', 'HH166', 'TH653', 'HT352', 'TT421', 'HH452', 'TH235', 'HT122', 'TH663', 'TT321', 'HT242', 'TT346', 'HT441', 'TH526', 'TH632', 'TH124', 'HT614', 'HT544', 'TT241', 'HH151', 'HT653', 'HT424', 'HH634', 'HH413', 'HH326', 'HH223', 'TH324', 'TH635', 'HT546', 'HH314', 'TH113', 'HT135', 'TT144', 'HH312', 'HH633', 'HT515', 'HT641', 'TT255', 'HT142', 'HH511', 'TH143', 'TT152', 'HH355', 'HT611', 'TH642', 'TT153', 'HT111', 'TH552', 'HH461', 'TH215', 'TT545', 'HH563', 'TH512', 'HT251', 'HH142', 'TH551', 'TH564', 'HH455', 'TH664', 'TT412', 'TT536', 'HT264', 'HT353', 'HH146', 'TT454', 'TH223', 'HT321', 'TT215', 'TH266', 'TT343', 'HH261', 'HH124', 'TT521', 'TH446', 'HT132', 'HH431', 'HT631', 'TH334', 'TT133', 'TT332', 'TH645', 'TH325', 'HT552', 'HH453', 'HH236', 'HT562', 'HH462', 'TH466', 'TH154', 'TT654', 'HT613', 'HH211', 'TH313', 'TH236', 'HT543', 'TH362', 'TH256', 'TH412', 'TT556', 'TH213', 'TH261', 'TT233', 'HT466', 'HH366', 'TT516', 'HH542', 'TH661', 'HH335', 'HT112', 'HH113', 'HH364', 'HH416', 'HH134', 'HH311', 'HT442', 'TH423', 'TT341', 'HH221', 'HT256', 'HT454', 'TH345', 'HH645', 'TT226', 'HT462', 'HH451', 'TT666', 'HT165', 'HT623', 'HT524', 'TH142', 'HH155', 'HH162', 'TH542', 'TT441', 'TH225', 'TT613', 'TH231', 'TT542', 'TH162', 'TH443', 'HH342', 'HT333', 'HH616', 'TT316', 'TT531', 'HH465', 'HT625', 'TT623', 'HT156', 'TH114', 'TH462', 'TH633', 'HT362', 'TH441', 'HT153', 'TH315', 'TH314', 'HH612', 'TH456', 'TT322', 'HH341', 'TH333', 'TT225', 'HH153', 'TH543', 'HT545', 'TH655', 'HH543', 'HH333', 'HH541', 'HT662', 'TH624', 'HT335', 'HT214', 'HT643', 'TH662', 'HT262', 'HH241', 'TT552', 'TH554', 'TH145', 'TH254', 'TH322', 'HT433', 'TH244', 'HH522', 'TH445', 'HH343', 'HT343', 'HH521', 'HH263', 'TH125', 'TT611', 'TT313', 'TT431', 'HT456', 'HT155', 'HH625', 'HH562', 'HT332', 'TT432', 'HH414', 'HH641', 'TH353', 'HH445', 'TT413', 'HT541', 'TH522', 'HH256', 'TT234', 'HT163', 'HT453', 'HH624', 'TH541', 'HT235', 'TT161', 'TH555', 'TT563', 'TT111', 'TT532', 'TT465', 'HH613', 'HH213', 'HH242', 'TH545', 'HT131', 'TT541', 'HT233', 'TT414', 'TT461', 'TH454', 'TT156', 'TT121', 'TH164', 'HH264', 'HT443', 'TH364', 'HH534', 'HH635', 'TH565', 'TT562', 'TT621', 'HT345', 'TT113', 'TH424', 'TT335', 'HH446', 'HT434', 'HT211', 'TH463', 'TT125', 'TH224', 'TH233', 'TH212', 'TH316', 'TT333', 'TT631', 'HT346', 'HH225', 'TT364', 'TT354', 'HH656', 'HT313', 'TT263', 'TT614', 'HH425', 'HH664', 'HT446', 'TT525', 'HH145', 'HH144', 'TH356', 'TT453', 'HT654', 'TT264', 'TT561', 'HT215', 'HT115', 'TT244', 'HH631', 'HH623', 'TH533', 'HH544', 'HT226', 'HH545', 'HT516', 'TT224', 'HH632', 'HT325', 'HH323', 'TT155', 'HH354', 'TT222', 'TT424', 'TT643', 'TH666', 'HT635', 'TH415', 'TH561', 'HT534', 'TT246', 'HT622', 'TH644', 'TT223', 'TT426', 'HH324', 'HT564', 'TH535', 'HH136', 'TH344', 'HT124', 'TH363', 'HH564', 'TH135', 'TH613', 'HH321', 'TT415', 'HT616', 'TT544', 'HH346', 'TT455', 'HT361', 'HT512', 'TH115', 'TT122', 'TH263', 'HH115', 'HT626', 'TH553', 'TH562', 'HH423', 'HH262', 'HH316', 'HT423', 'TH432', 'HT344', 'TT661', 'HH143', 'TT336', 'HT244', 'HH152', 'HT422', 'TH253', 'HT222', 'HH515', 'TH262', 'TT145', 'HT426', 'HT123', 'HH344', 'TT266', 'HT435', 'HH123', 'HH215', 'HT322', 'HT636', 'TH234', 'HT526', 'HH313', 'HT652', 'TT515', 'HH513', 'TH342', 'TT231', 'HT365', 'TT314', 'HH212', 'TT446', 'HT316', 'TT261', 'TH612', 'HH121', 'TT411', 'TH651', 'HT354', 'TT655', 'HT162', 'TH331', 'HH126', 'HT161', 'TT535', 'HH514', 'TH326', 'TH455', 'TT116', 'HH243', 'TH241', 'TT452', 'HT425', 'HH636', 'TT323', 'HT351', 'HT231', 'HH666', 'HT563', 'TT363', 'TT456', 'TT534', 'HH551', 'TT132', 'TT353', 'TH634', 'TT565', 'TT626', 'HT152', 'HH651', 'HH552', 'TT662', 'HH561', 'HH363', 'TT616', 'HT633', 'TT656', 'HH251', 'HT553', 'HH646', 'TT253', 'TH416', 'HH345', 'TT644', 'HH434', 'HH361', 'TH636', 'TH211', 'HT554', 'TT124', 'TH431', 'HT114', 'HT411', 'HT514', 'HT525', 'TH626', 'HH254', 'HH235', 'TH621', 'TT464', 'HH111', 'HT221', 'TH452', 'HH466', 'HT451', 'HT432', 'HH352', 'TH523', 'TH166', 'TT134', 'HT412', 'TH216', 'TH312', 'TH354', 'HT665', 'HT532', 'TH156', 'TH435', 'TT641', 'TH122', 'HH336', 'TT633', 'HT555', 'HH662', 'TH346', 'TT425', 'HT213', 'TH413', 'TH546', 'HT334', 'TT135', 'HT324', 'TH453', 'TH242', 'HH525', 'HT236', 'HH365', 'HH454', 'HH546', 'HT655', 'TH514', 'TT553', 'TT622', 'HT533', 'HH412', 'HH246', 'HT615', 'HH233', 'TT526', 'HH164', 'TH544', 'TT423', 'TH146', 'TT254', 'HT413', 'HH523', 'TH251', 'TH465', 'TH366', 'TH343', 'HT145', 'TH513', 'TH336', 'TH556', 'HT561', 'HH231', 'HH432', 'HH665', 'TT355', 'TT434', 'HH163', 'HH621', 'TH133', 'HT141', 'HH526', 'HH135', 'TT334', 'HH332', 'HH611', 'HT366', 'HT444', 'HT634', 'TH511', 'HH642', 'TT462', 'HH533', 'TH246', 'HH331', 'HH555', 'HT431', 'TT646', 'HH524', 'HH415', 'TH123', 'TH534', 'TH525', 'HT266', 'TT511', 'HH154', 'TT345', 'HT445', 'TT652', 'TH531', 'TT114', 'HH234', 'TH625', 'TH654', 'HH156', 'TH616', 'HT164', 'TT213', 'HT265', 'TT311', 'TT512', 'TT433', 'HH421', 'TT112', 'HT356', 'HT612', 'HH441', 'TT555', 'TT522', 'HT621', 'HH553', 'HH114', 'TH521', 'HT522', 'HH315', 'HH112', 'TT151', 'TH532', 'TH152', 'TH361', 'TT164', 'TH652', 'TT443', 'HH244', 'TH252', 'TT365', 'TT642', 'HT341', 'TH614', 'TH352', 'TH656', 'HH531', 'HT645', 'HT143', 'HH226', 'HT415', 'HT664', 'TT212', 'TT356', 'TH566', 'TH255', 'TH144', 'TH165', 'TH365', 'HT224', 'TH214', 'TH641', 'TH153', 'HT166', 'TT615', 'TT141', 'HT315', 'HH222', 'TH615', 'HH216', 'HT455', 'TT632', 'HH424', 'TH121', 'TT123', 'TT154', 'HH433', 'TH433', 'TT634', 'HH443', 'TT663', 'HT125', 'TH111', 'HH131', 'HH644', 'TH341', 'TH245', 'HT551', 'TT546', 'TH332', 'HH325', 'TH151', 'HH565', 'HT646', 'HT463', 'HT355', 'HH265', 'HT565'}\n",
            "len(Cf)  =  864\n",
            "Cff = {'TH535', 'HT554', 'TH255', 'HT525', 'TT556', 'TT525', 'HT515', 'TT255', 'TH155', 'TH555', 'TT455', 'HH355', 'HH655', 'TH552', 'TT551', 'TT655', 'HH554', 'TT545', 'TH551', 'HT545', 'TH545', 'TH655', 'TH556', 'TT555', 'HH455', 'TT535', 'TH553', 'TH455', 'HH545', 'TT355', 'HH553', 'TT554', 'HT556', 'HT455', 'TT552', 'TH355', 'HH535', 'TH565', 'TH554', 'TT155', 'HT255', 'HH551', 'HT555', 'TT565', 'HH552', 'HH515', 'TH515', 'HH155', 'HH255', 'HH555', 'HT551', 'HH525', 'HH556', 'HT155', 'HH565', 'HT552', 'TT553', 'TT515', 'HT655', 'HT553', 'HT535', 'HT355', 'TH525', 'HT565'}\n",
            "len = 64\n"
          ]
        }
      ]
    },
    {
      "cell_type": "code",
      "source": [
        "#2.มีหมวก 4 ใบ เสื้อ 5 ตัว กางเกง 2 ตัว จะสวมหมวก เสื้อ และกางเกง ได้กี่ชุด จงเขียนปริภูมิตัวอย่าง และนับจำนวนสมาชิก\n",
        "num_hats = 4\n",
        "num_shirts = 5\n",
        "num_pants = 2\n",
        "\n",
        "\n",
        "total_outfits = num_hats * num_shirts * num_pants #คิดตรงๆ\n",
        "\n",
        "sample_space = []\n",
        "for hat in range(1, num_hats + 1):\n",
        "    for shirt in range(1, num_shirts + 1):\n",
        "        for pant in range(1, num_pants + 1):\n",
        "            outfit = (hat, shirt, pant)\n",
        "            sample_space.append(outfit)\n",
        "\n",
        "num_members = len(sample_space)\n",
        "\n",
        "print(\"len = \",total_outfits) #คิดตรงๆ\n",
        "print(\"all of sample space\",sample_space)\n",
        "print(\"len = \" , num_members)"
      ],
      "metadata": {
        "colab": {
          "base_uri": "https://localhost:8080/"
        },
        "id": "VjtU-iScmIxo",
        "outputId": "6a0e5393-a3c5-464c-d2b2-7aff0e91a08a"
      },
      "execution_count": null,
      "outputs": [
        {
          "output_type": "stream",
          "name": "stdout",
          "text": [
            "len =  40\n",
            "all of sample space [(1, 1, 1), (1, 1, 2), (1, 2, 1), (1, 2, 2), (1, 3, 1), (1, 3, 2), (1, 4, 1), (1, 4, 2), (1, 5, 1), (1, 5, 2), (2, 1, 1), (2, 1, 2), (2, 2, 1), (2, 2, 2), (2, 3, 1), (2, 3, 2), (2, 4, 1), (2, 4, 2), (2, 5, 1), (2, 5, 2), (3, 1, 1), (3, 1, 2), (3, 2, 1), (3, 2, 2), (3, 3, 1), (3, 3, 2), (3, 4, 1), (3, 4, 2), (3, 5, 1), (3, 5, 2), (4, 1, 1), (4, 1, 2), (4, 2, 1), (4, 2, 2), (4, 3, 1), (4, 3, 2), (4, 4, 1), (4, 4, 2), (4, 5, 1), (4, 5, 2)]\n",
            "len =  40\n"
          ]
        }
      ]
    },
    {
      "cell_type": "code",
      "source": [
        "#2.\n",
        "from itertools import product\n",
        "\n",
        "h = list(range(1,5))\n",
        "hh = [str(x) for x in h]\n",
        "hat = set('n' + b for b in hh)\n",
        "# print(\"necklaces = \",neck)\n",
        "\n",
        "s = list(range(1,6))\n",
        "ss = [str(x) for x in s]\n",
        "shirt = set('E'+ b for b in ss)\n",
        "\n",
        "# print(\"earrings = \",ear)\n",
        "p = list(range(1,3))\n",
        "pp = [str(x) for x in p]\n",
        "pants = set('n' + b for b in pp)\n",
        "\n",
        "NE = set(product(hat,shirt,pants))\n",
        "print(NE)\n",
        "print('จำนวนวิธีทั้งหมด = ',len(NE))"
      ],
      "metadata": {
        "colab": {
          "base_uri": "https://localhost:8080/"
        },
        "id": "yjpoha7TnWrE",
        "outputId": "677f2528-d33a-4e25-a155-49b494cb5a9f"
      },
      "execution_count": null,
      "outputs": [
        {
          "output_type": "stream",
          "name": "stdout",
          "text": [
            "{('n3', 'E3', 'n1'), ('n4', 'E2', 'n2'), ('n2', 'E5', 'n1'), ('n4', 'E4', 'n1'), ('n2', 'E3', 'n1'), ('n1', 'E1', 'n2'), ('n4', 'E1', 'n2'), ('n2', 'E4', 'n2'), ('n2', 'E2', 'n1'), ('n3', 'E2', 'n1'), ('n3', 'E1', 'n1'), ('n2', 'E1', 'n1'), ('n3', 'E5', 'n2'), ('n1', 'E4', 'n2'), ('n1', 'E5', 'n1'), ('n4', 'E5', 'n1'), ('n3', 'E3', 'n2'), ('n1', 'E3', 'n1'), ('n2', 'E5', 'n2'), ('n1', 'E2', 'n1'), ('n3', 'E4', 'n1'), ('n4', 'E3', 'n1'), ('n4', 'E4', 'n2'), ('n2', 'E3', 'n2'), ('n4', 'E2', 'n1'), ('n2', 'E2', 'n2'), ('n3', 'E2', 'n2'), ('n3', 'E1', 'n2'), ('n2', 'E1', 'n2'), ('n1', 'E1', 'n1'), ('n1', 'E5', 'n2'), ('n4', 'E1', 'n1'), ('n2', 'E4', 'n1'), ('n4', 'E5', 'n2'), ('n1', 'E3', 'n2'), ('n3', 'E5', 'n1'), ('n1', 'E2', 'n2'), ('n3', 'E4', 'n2'), ('n4', 'E3', 'n2'), ('n1', 'E4', 'n1')}\n",
            "จำนวนวิธีทั้งหมด =  40\n"
          ]
        }
      ]
    },
    {
      "cell_type": "code",
      "source": [
        "#3.มีตัวเลขอยู่ 5 ตัว คือ 1-5 ต้องการสร้างจํานวนเต็มบวก 3 หลักที่หารด้วย 4 ลงตัว มีวิธีสร้างอย่างไร กี่วิธี โดยแต่ละหลักมีตัวเลขไม่ซำ้กัน\n",
        "from itertools import permutations\n",
        "n = set(range(1, 6))\n",
        "A = [str(x) for x in n]\n",
        "B = set(permutations(A, 3))\n",
        "B1 = [''.join(i) for i in B]\n",
        "D = {int(x) for x in B1}\n",
        "\n",
        "E = {x for x in D if x%4 == 0}\n",
        "print(E)\n",
        "print(\"จํานวนเต็มบวก 3 หลักที่หารด้วย 4 ลงตัว\", E)"
      ],
      "metadata": {
        "colab": {
          "base_uri": "https://localhost:8080/"
        },
        "id": "Cvf3Ck-KsV_y",
        "outputId": "47643974-6b76-4861-f6d0-c4a7252d35ea"
      },
      "execution_count": null,
      "outputs": [
        {
          "output_type": "stream",
          "name": "stdout",
          "text": [
            "{512, 352, 312, 132, 452, 324, 524, 432, 124, 532, 152, 412}\n",
            "จํานวนเต็มบวก 3 หลักที่หารด้วย 4 ลงตัว {512, 352, 312, 132, 452, 324, 524, 432, 124, 532, 152, 412}\n"
          ]
        }
      ]
    },
    {
      "cell_type": "code",
      "source": [
        "#4.กล่องใบหนึ่งมีหลอดไฟดี 5 หลอด และหลอดไฟเสีย 2 หลอดปนกัน สุ่มหยิบหลอดไฟมา 4 หลอด จงหาวิธีที่จะหยิบได้หลอดไฟเสียอย่างน้อยหนึ่งหลอด\n",
        "from itertools import combinations\n",
        "A = \"12345\"\n",
        "A1 = set(\"G\" + a for a in A)\n",
        "B  = \"12\"\n",
        "B1 = set(\"B\" + a for a in B)\n",
        "C = A1 | B1\n",
        "print(C)\n",
        "D =  set(combinations(C,4))\n",
        "D1 = [''.join(i) for i in D]\n",
        "\n",
        "print(\"C(7,4) = \",D)\n",
        "print(\"lenC(7,4) = \",  len(D))\n",
        "print(\"sample_space = \" ,  D1)\n",
        "E = {x for x in D1 if x.count(\"B\") >=1}\n",
        "print(\"n(E) = \" , len(E))"
      ],
      "metadata": {
        "colab": {
          "base_uri": "https://localhost:8080/"
        },
        "id": "9Ftm9p-UtFA4",
        "outputId": "1d483911-47e7-4c00-a4e0-3f3c6eaa27e4"
      },
      "execution_count": null,
      "outputs": [
        {
          "output_type": "stream",
          "name": "stdout",
          "text": [
            "{'G4', 'G2', 'G1', 'G3', 'G5', 'B1', 'B2'}\n",
            "C(7,4) =  {('G4', 'G2', 'G5', 'B2'), ('G2', 'G3', 'G5', 'B2'), ('G4', 'G2', 'G5', 'B1'), ('G2', 'G3', 'G5', 'B1'), ('G2', 'G1', 'G5', 'B2'), ('G4', 'G2', 'G1', 'G3'), ('G4', 'G3', 'B1', 'B2'), ('G2', 'G1', 'G5', 'B1'), ('G1', 'G3', 'B1', 'B2'), ('G4', 'G1', 'G5', 'B2'), ('G4', 'G5', 'B1', 'B2'), ('G4', 'G1', 'G5', 'B1'), ('G4', 'G2', 'G1', 'G5'), ('G3', 'G5', 'B1', 'B2'), ('G2', 'G5', 'B1', 'B2'), ('G2', 'G3', 'B1', 'B2'), ('G4', 'G2', 'G1', 'B2'), ('G4', 'G2', 'G1', 'B1'), ('G4', 'G2', 'G3', 'G5'), ('G4', 'G2', 'B1', 'B2'), ('G4', 'G3', 'G5', 'B2'), ('G1', 'G5', 'B1', 'B2'), ('G4', 'G3', 'G5', 'B1'), ('G2', 'G1', 'G3', 'G5'), ('G2', 'G1', 'B1', 'B2'), ('G4', 'G2', 'G3', 'B2'), ('G4', 'G2', 'G3', 'B1'), ('G2', 'G1', 'G3', 'B2'), ('G4', 'G1', 'G3', 'G5'), ('G2', 'G1', 'G3', 'B1'), ('G4', 'G1', 'B1', 'B2'), ('G1', 'G3', 'G5', 'B2'), ('G4', 'G1', 'G3', 'B2'), ('G1', 'G3', 'G5', 'B1'), ('G4', 'G1', 'G3', 'B1')}\n",
            "lenC(7,4) =  35\n",
            "sample_space =  ['G4G2G5B2', 'G2G3G5B2', 'G4G2G5B1', 'G2G3G5B1', 'G2G1G5B2', 'G4G2G1G3', 'G4G3B1B2', 'G2G1G5B1', 'G1G3B1B2', 'G4G1G5B2', 'G4G5B1B2', 'G4G1G5B1', 'G4G2G1G5', 'G3G5B1B2', 'G2G5B1B2', 'G2G3B1B2', 'G4G2G1B2', 'G4G2G1B1', 'G4G2G3G5', 'G4G2B1B2', 'G4G3G5B2', 'G1G5B1B2', 'G4G3G5B1', 'G2G1G3G5', 'G2G1B1B2', 'G4G2G3B2', 'G4G2G3B1', 'G2G1G3B2', 'G4G1G3G5', 'G2G1G3B1', 'G4G1B1B2', 'G1G3G5B2', 'G4G1G3B2', 'G1G3G5B1', 'G4G1G3B1']\n",
            "n(E) =  30\n"
          ]
        }
      ]
    },
    {
      "cell_type": "code",
      "source": [
        "#5.จากคําว่า DESTINY จงหาความน่าจะเป็นที่จะจัดเรียงตัวอักษร 4 ตัวจากคำนี้ โดยกําหนดว่าจะต้องขึ้นด้วยอักษร T\n",
        "S = \"DESTINY\"\n",
        "s = set(permutations(S,4))\n",
        "s1 = [''.join(i) for i in s]\n",
        "s2 = { x for x in s1 if x[0] == \"T\"}\n",
        "print(\"ความน่าจะเป็นที่จะจัดเรียงตัวอักษร 4 ตัวจากคำนี้ โดยกําหนดว่าจะต้องขึ้นด้วยอักษร T =\",s2)\n",
        "print(len(s2))"
      ],
      "metadata": {
        "colab": {
          "base_uri": "https://localhost:8080/"
        },
        "id": "nvO-0M3rvpy1",
        "outputId": "19e28cab-9353-41ce-ff46-08f272b14f3e"
      },
      "execution_count": null,
      "outputs": [
        {
          "output_type": "stream",
          "name": "stdout",
          "text": [
            "{'TDYI', 'TEYI', 'TNIS', 'TDYE', 'TYDI', 'TEIY', 'TIDY', 'TSEI', 'TSIY', 'TSED', 'TYNS', 'TNSI', 'TDEY', 'TIND', 'TIYD', 'TYSE', 'TSDY', 'TSNY', 'TESD', 'TYIE', 'TEYN', 'TSND', 'TIDE', 'TNID', 'TNEY', 'TDNE', 'TESN', 'TINS', 'TDYN', 'TNEI', 'TYEI', 'TYID', 'TIDN', 'TISY', 'TYSI', 'TNSE', 'TSID', 'TYSN', 'TNYD', 'TEDI', 'TDIS', 'TSYI', 'TYNI', 'TISE', 'TEDN', 'TYDS', 'TSEY', 'TSIE', 'TYES', 'TESY', 'TNES', 'TIED', 'TSEN', 'TSNE', 'TNDE', 'TNED', 'TSNI', 'TIYE', 'TDNI', 'TYDN', 'TENI', 'TIEN', 'TEYD', 'TNIE', 'TYSD', 'TEIN', 'TSDE', 'TNSD', 'TISN', 'TEDS', 'TNSY', 'TDNY', 'TDSY', 'TNYI', 'TDSI', 'TEYS', 'TSDN', 'TYIN', 'TYED', 'TSDI', 'TDEI', 'TDIE', 'TDSN', 'TENY', 'TDES', 'TEDY', 'TIES', 'TIYN', 'TINE', 'TDIN', 'TESI', 'TDIY', 'TNDS', 'TNDI', 'TDYS', 'TIYS', 'TDNS', 'TYND', 'TEND', 'TINY', 'TIEY', 'TDSE', 'TIDS', 'TNYS', 'TYEN', 'TEIS', 'TNIY', 'TYDE', 'TSYD', 'TNYE', 'TDEN', 'TYIS', 'TSYE', 'TSIN', 'TNDY', 'TSYN', 'TISD', 'TENS', 'TEID', 'TYNE'}\n",
            "120\n"
          ]
        }
      ]
    },
    {
      "cell_type": "code",
      "source": [
        "S = \"DESINY\" #ตัด T ออกเอามาคิดตอนหลัง\n",
        "s = set(permutations(S,3))\n",
        "s1 = [''.join(i) for i in s]\n",
        "print(s1)\n",
        "print(len(s1))\n",
        "s2 = set(\"T\" + x for x in s1)\n",
        "print(\"ความน่าจะเป็นที่จะจัดเรียงตัวอักษร 4 ตัวจากคำนี้ โดยกําหนดว่าจะต้องขึ้นด้วยอักษร T =\",s2)\n",
        "print(\"len(S2)\",len(s2))"
      ],
      "metadata": {
        "colab": {
          "base_uri": "https://localhost:8080/"
        },
        "id": "5vbiB0aXxZQd",
        "outputId": "53999b79-25a7-49b2-bc26-4bd2cf7b90d4"
      },
      "execution_count": null,
      "outputs": [
        {
          "output_type": "stream",
          "name": "stdout",
          "text": [
            "['DES', 'SNY', 'DSN', 'YES', 'ISD', 'IDN', 'NED', 'SYI', 'DEY', 'SEI', 'YSN', 'SDE', 'YSD', 'SNI', 'YDN', 'EIY', 'NES', 'DEN', 'DIE', 'NDY', 'YEN', 'YIE', 'DEI', 'EYD', 'IYD', 'ISY', 'SYE', 'NSD', 'IED', 'YED', 'EDS', 'DSY', 'IDY', 'IND', 'SNE', 'NDI', 'EYS', 'IYS', 'NIE', 'IES', 'DSI', 'YND', 'EDN', 'NSY', 'NYI', 'DYE', 'INS', 'DIS', 'YSI', 'DNS', 'SID', 'INY', 'EYN', 'YDI', 'IYN', 'DNY', 'EYI', 'ISE', 'IEN', 'YNS', 'SDN', 'NSI', 'DSE', 'YEI', 'NEY', 'NYE', 'IDE', 'DIN', 'YSE', 'ESN', 'EDY', 'DNI', 'YDE', 'ESD', 'NEI', 'YNI', 'ENS', 'SIN', 'IEY', 'SDY', 'EDI', 'YIS', 'NID', 'NDE', 'DIY', 'ESY', 'SDI', 'NIS', 'END', 'YIN', 'SIY', 'ESI', 'SYN', 'NIY', 'YID', 'SEN', 'DYS', 'SYD', 'IYE', 'NYD', 'EIS', 'SED', 'NSE', 'NDS', 'SND', 'ENY', 'INE', 'DNE', 'NYS', 'IDS', 'DYN', 'DYI', 'EIN', 'YNE', 'SEY', 'ENI', 'EID', 'YDS', 'ISN', 'SIE']\n",
            "120\n",
            "ความน่าจะเป็นที่จะจัดเรียงตัวอักษร 4 ตัวจากคำนี้ โดยกําหนดว่าจะต้องขึ้นด้วยอักษร T = {'TDYI', 'TEYI', 'TDYE', 'TNIS', 'TYDI', 'TEIY', 'TIDY', 'TSEI', 'TSIY', 'TSED', 'TYNS', 'TNSI', 'TDEY', 'TIND', 'TIYD', 'TYSE', 'TSDY', 'TSNY', 'TESD', 'TYIE', 'TEYN', 'TSND', 'TIDE', 'TNID', 'TNEY', 'TDNE', 'TESN', 'TINS', 'TDYN', 'TNEI', 'TYEI', 'TYID', 'TIDN', 'TISY', 'TYSI', 'TNSE', 'TSID', 'TYSN', 'TNYD', 'TEDI', 'TDIS', 'TSYI', 'TYNI', 'TISE', 'TEDN', 'TYDS', 'TSEY', 'TSIE', 'TYES', 'TESY', 'TNES', 'TIED', 'TSEN', 'TSNE', 'TNDE', 'TNED', 'TSNI', 'TDNI', 'TYDN', 'TIYE', 'TENI', 'TIEN', 'TYSD', 'TEYD', 'TNIE', 'TEIN', 'TSDE', 'TNSD', 'TISN', 'TEDS', 'TNSY', 'TDNY', 'TDSY', 'TNYI', 'TEYS', 'TDSI', 'TSDN', 'TYIN', 'TYED', 'TSDI', 'TDEI', 'TDIE', 'TDSN', 'TENY', 'TDES', 'TEDY', 'TIES', 'TIYN', 'TINE', 'TDIN', 'TESI', 'TDIY', 'TNDS', 'TNDI', 'TDYS', 'TIYS', 'TDNS', 'TYND', 'TEND', 'TINY', 'TIEY', 'TDSE', 'TIDS', 'TNYS', 'TYEN', 'TEIS', 'TYDE', 'TNIY', 'TSYD', 'TNYE', 'TDEN', 'TYIS', 'TSYE', 'TSIN', 'TNDY', 'TSYN', 'TISD', 'TENS', 'TEID', 'TYNE'}\n",
            "len(S2) 120\n"
          ]
        }
      ]
    },
    {
      "cell_type": "code",
      "source": [
        "#6ในการจัดนักฟุตซอล 8 คน ลงแข่งในแต่ละตำแหน่งที่แตกต่างกัน 5 ตำแหน่ง จงหาความน่าจะเป็นที่จะจัดให้นาย A B และนาย C ลงในตำแหน่งที่ 1 2 และ 3 ตามลำดับ\n",
        "from fractions import Fraction\n",
        "A = \"ABCDEFGH\"\n",
        "S = set(permutations(A,5)) #จัดทั้งหมด\n",
        "ns = len(s)\n",
        "print(len(s))\n",
        "A1 = (\"DEFGH\")\n",
        "E1 = set(permutations(A1,2)) #จัดตามที่โจทย์บอก\n",
        "E11 = {''.join(i) for i in E1}\n",
        "E = {'ABC' + a for a in E11}\n",
        "print(E)\n",
        "print(len(E))\n",
        "PE = Fraction(len(E),ns)\n",
        "print(PE)\n",
        "print(len(E)/ns)\n"
      ],
      "metadata": {
        "colab": {
          "base_uri": "https://localhost:8080/"
        },
        "id": "J5hogYq0yPVC",
        "outputId": "3ef2deb5-22ce-48e0-e2ca-e6b42005b3bc"
      },
      "execution_count": null,
      "outputs": [
        {
          "output_type": "stream",
          "name": "stdout",
          "text": [
            "120\n",
            "{'ABCFG', 'ABCDG', 'ABCGE', 'ABCFH', 'ABCEG', 'ABCDH', 'ABCHF', 'ABCFD', 'ABCDE', 'ABCFE', 'ABCEH', 'ABCGF', 'ABCHE', 'ABCEF', 'ABCGH', 'ABCGD', 'ABCED', 'ABCHD', 'ABCHG', 'ABCDF'}\n",
            "20\n",
            "1/6\n",
            "0.16666666666666666\n"
          ]
        }
      ]
    },
    {
      "cell_type": "code",
      "source": [
        "#7.มีลูกบอลอยู่ 4 สีคือ ฟ้า แดง เขียว ชมพู สีละ 4 ลูก ต้องการหยิบมา 5 ลูก จงหาความน่าจะเป็นในการหยิบไม่ได้ลูกบอลสีฟ้าเลย\n",
        "A = \"1234\"\n",
        "Blue = set(\"B\" + a for a in A)\n",
        "Red  = set(\"R\" + a for a in A)\n",
        "Green = set(\"G\" +  a for a in A)\n",
        "Pink  =  set(\"P\" +  a for a in A)\n",
        "C = Blue | Red | Green | Pink\n",
        "S = set(combinations(C,5))\n",
        "ns = len(S)\n",
        "E11 = {''.join(i) for i in S}\n",
        "print(\"lenght of sample_spac = \", len(S))\n",
        "E2 = {x for x in E11 if x.count(\"B\") == 0}\n",
        "print(\"all of event = \",E2)\n",
        "print(\"lenght of event = \",len(E2))\n",
        "PE = Fraction(len(E2),ns)\n",
        "print(\"PE = \",PE)"
      ],
      "metadata": {
        "colab": {
          "base_uri": "https://localhost:8080/"
        },
        "id": "SmqO2E6B0joR",
        "outputId": "010c5918-c295-44e0-cd63-5fc3f04e0143"
      },
      "execution_count": null,
      "outputs": [
        {
          "output_type": "stream",
          "name": "stdout",
          "text": [
            "lenght of sample_spac =  4368\n",
            "all of event =  {'G1R1P2G4P4', 'G1R4P1G3R3', 'G1P1P2P3P4', 'R2P2G4P3G2', 'R4R2P2G3R3', 'P1P2G4P4G3', 'G1R4P4G3R3', 'G1R1P1P3G3', 'P1R2P4G3R3', 'R1R4G4G3R3', 'G1P1P2G4P4', 'G1R2G4G2P4', 'G1P1R2G2P4', 'G1R1R2P2G2', 'R4P1P2G4P3', 'R1R2P3G2R3', 'R4P1R2G3R3', 'R4G4G2G3R3', 'R1R4P1R2R3', 'G1R1P2G4P3', 'G1G4P3G2R3', 'P1R2G4P4G3', 'R1R2P2P4G3', 'G1R4R2P3G2', 'R1R4R2P2G3', 'G1R1P3G2R3', 'G1R1R4G4R3', 'R1R4P1R2G2', 'G1R1R2P4G3', 'R4R2P2P3P4', 'R1P1P2G4R3', 'P2G4P3P4G3', 'G1R4P2G2R3', 'R1P2G4G2P4', 'R4P1R2G2P4', 'R4P1P3G2P4', 'R1R4R2P2G2', 'R1G4P3G2G3', 'R4P2P3P4R3', 'G1R1P2G2G3', 'R1P1R2G4R3', 'R1G4P3P4G3', 'R4P1P2G4P4', 'P1R2P2P3G2', 'R1P2G4P3P4', 'R4P1R2P2R3', 'G1R1R4P2G4', 'G1P1R2G4G3', 'R4P1R2G2G3', 'R1P2G2P4G3', 'G1P1G4G2G3', 'R1P2G4P4R3', 'P1R2P2G2P4', 'R1P1P3G3R3', 'R1R4P1R2G3', 'R1R4G4G2P4', 'P2P3P4G3R3', 'G1R2P2G4G3', 'G1R4R2P4G3', 'R4P1R2P2P3', 'G1R4P1P4G3', 'R4G4P3G2R3', 'G1R1G4P3G3', 'G1R1R2P2R3', 'R1R4R2G2P4', 'G1P1G4G2R3', 'P1P2G2G3R3', 'G1R4P2P4G3', 'G1R4R2G2G3', 'R1R4P1G4G3', 'R4P1P2G2R3', 'G1R1R2P2G4', 'R1R4P1P4G3', 'R1P2P3P4G3', 'G1P1R2G3R3', 'G1R2P2G4G2', 'G1R1P1G4P4', 'G1G4G2P4G3', 'R1R2P3P4R3', 'P1P2G4P3R3', 'R1P1R2G3R3', 'P1P2P3P4R3', 'G1P1R2P3P4', 'R4P1G4G3R3', 'R4R2G4P3P4', 'G1R1R4R2P3', 'R1R4P2G4P3', 'G1R2G4G3R3', 'G1R4G2G3R3', 'G1R1P1R2G3', 'R1R4R2P2G4', 'R1R4P1R2P3', 'G1R1R4P1P2', 'G1R1R4P2P3', 'R1R4P1P2R3', 'G1R4P3G2G3', 'R1P1R2G4P4', 'P1G4P3P4G3', 'G1R4P2G4G2', 'G1R1G4G3R3', 'G1R4P1G4P3', 'R1R4R2P3R3', 'G1R1G2G3R3', 'R1P2G4G3R3', 'G1R1P1G4P3', 'G1P2G4G2G3', 'P1R2P2G2R3', 'R1R4P2G4G3', 'P2G4P3G2R3', 'G1R1R4R2G2', 'G1R4P2P3G2', 'G1R1R4P2P4', 'R1G4G2P4R3', 'R1R2P2G4G3', 'G1P2G4P4G3', 'G1R4P2G4P4', 'R4R2G2G3R3', 'R1P3G2G3R3', 'R4G4P4G3R3', 'R1R4P1R2P2', 'P2G4G2G3R3', 'P2G4P4G3R3', 'G1R4R2P4R3', 'R4P1R2P2P4', 'R1P1G4G2G3', 'G1R1P1R2R3', 'R1P1R2G2P4', 'P1R2P3G2G3', 'R1G4P3G3R3', 'P1P2G2P4G3', 'G1R1R2G2R3', 'R1P1G2P4G3', 'R2G4P3G3R3', 'P1G4G2G3R3', 'R1R4P3P4R3', 'R2P2P3G2G3', 'R1R2G4G2P4', 'R2P2G4P4R3', 'R4P1G2G3R3', 'R4P1G4P3P4', 'G1R1R2G4P3', 'G1R4P1P2G2', 'G1R1R4P1G3', 'G1R4R2G2R3', 'R1R4P1G4R3', 'P1R2G4P3G3', 'G1R2P2G4P4', 'G1R1R4R2P2', 'G1P1P3G3R3', 'G1R4P1G2G3', 'R4R2P2G4P3', 'G1R4P1P4R3', 'G1P1G2P4G3', 'G1R2P3P4G3', 'R4R2P2G4P4', 'G1R1R4P2R3', 'R1P1P2P4R3', 'R2P2G2P4G3', 'R4R2G4G2G3', 'R2G4P4G3R3', 'R4R2P3P4G3', 'G1R2G2G3R3', 'P1P2G2P4R3', 'G1G4P4G3R3', 'R1P1G4P3P4', 'G1R4G4G2G3', 'G1P2P3P4R3', 'G1R4R2G3R3', 'R4P1P2P4R3', 'G1R4P2G2G3', 'G1R1R4R2P4', 'G1P2P3G2R3', 'G1P1G4G2P4', 'G1R2P2G2G3', 'R1R4P1P2P3', 'P2G4P3G3R3', 'G1P2G2P4G3', 'G1R4P1R2P2', 'G1R4R2P2P3', 'G1R4P1G4G2', 'R4P1G4P4G3', 'R1G2P4G3R3', 'G1R2P2P3P4', 'R1R4P2G3R3', 'R4R2P2G2G3', 'R1G4P3G2P4', 'R2P3G2P4G3', 'G1P1P2P3R3', 'P1G4G2P4R3', 'P1R2P2P3P4', 'R1R4P3G3R3', 'R1R4P1P3R3', 'G1P1P2G3R3', 'G1R4P2G4R3', 'R2P2G4P4G3', 'R4P2G4G3R3', 'G1P1P4G3R3', 'P1R2P2P3G3', 'R1R2P2P3P4', 'R4P2G4G2R3', 'G1R4P1G2R3', 'R4G4P3G2G3', 'G1R4P1G2P4', 'R1P1P4G3R3', 'G1R4P1R2R3', 'G1R1R4R2G4', 'R2G4P3G2G3', 'G1P2G4P3R3', 'R4P1G4G2G3', 'R2P2P4G3R3', 'P1P3G2P4R3', 'G1R1P1G4R3', 'G1P1G4P3P4', 'R4P1R2P3R3', 'R1R4P2P4G3', 'R1G4P3G2R3', 'P1P2G4P3P4', 'G1R2P3G2R3', 'G1P2G4P4R3', 'P1P2P3P4G3', 'R4P1G4P3G2', 'R4R2G2P4G3', 'G1R1P1P4R3', 'R1R2G4P4G3', 'R1P1G4G2P4', 'R1R4G4P4G3', 'P1G4G2P4G3', 'R1P2P3G2G3', 'G1P1P3G2R3', 'G1P1R2P3R3', 'G1R2P2P3G2', 'G1R4P1R2P4', 'G1R1R4P1G2', 'G1R1R4P3R3', 'R1P2G4P3G2', 'G1P3G2G3R3', 'R4P2P3P4G3', 'R4R2P3G2R3', 'G1G4P3P4R3', 'R2P3P4G3R3', 'R1R4G4P4R3', 'G1R4R2P2P4', 'R4P3G2P4R3', 'P1R2G4P3P4', 'R4P1R2G4R3', 'R1R4G2G3R3', 'P1P2P3G2P4', 'G4P3G2G3R3', 'G1P1G4P3G2', 'R1P1P2P3G3', 'R1P1P2P3R3', 'R1R4G2P4G3', 'G1R4P2G4G3', 'G1R1P1G2G3', 'G1R2P2G4P3', 'R4R2G4G3R3', 'G1P1R2G4G2', 'G1R2P2G4R3', 'R4R2P2P3R3', 'P1G2P4G3R3', 'R4R2G4P4R3', 'R4R2P2G4G2', 'R1R4P1R2P4', 'R1R4P2G4R3', 'G1R4P1G4G3', 'G1R1R4P1R3', 'G1R1R4G4G3', 'G1R1R4P4R3', 'G1P2P3P4G3', 'R2P2G2P4R3', 'R1R4P2G2R3', 'R1P1P2P3P4', 'G1R1P2P3G3', 'G1R4G2P4R3', 'G1R1R2G2G3', 'R4G4G2P4R3', 'R1R4R2P2P3', 'G1P1P2P3G3', 'P1R2G4P4R3', 'G1R4R2P2R3', 'G1R1R4G4P3', 'R1R4P2G4G2', 'R4R2P2P3G3', 'P1P2G4G2P4', 'R1R4P2P4R3', 'G1R1P2G3R3', 'G1R2P3G3R3', 'P1R2P2G4R3', 'G1P1R2G4P4', 'P2G4P3G2G3', 'G1R1P2G4R3', 'G1R4G4G2R3', 'P1R2P3P4R3', 'G1R1R4G3R3', 'G1P1R2P3G3', 'G1R4P2G4P3', 'G1R4R2G4R3', 'P1P2P4G3R3', 'G1P2P3G2P4', 'G1P2G4G2P4', 'G1G4P3P4G3', 'P1P2G4P4R3', 'G1R1G2P4R3', 'G1R1P1P4G3', 'G1P1R2G4P3', 'R1P3P4G3R3', 'R4R2P2G4R3', 'G1R1G4P4G3', 'G1R1G4G2G3', 'P1R2P2G4P4', 'R4R2P2G4G3', 'P1R2P3G2R3', 'R1R2G2P4R3', 'P1G4P3G3R3', 'R4R2G4G2R3', 'G1P1R2P2G3', 'R1R4P1G2G3', 'G1R1R4P1R2', 'R1P1G4G2R3', 'R1P1R2G4P3', 'G1R1P1P2R3', 'R1R4G4G2R3', 'R1R4P3P4G3', 'G1R4P1G4P4', 'P1G4P4G3R3', 'G1G4P3G2P4', 'G1P1R2G2G3', 'G1R4G4P3G3', 'R1P1R2P2P4', 'R4P1P3P4R3', 'G1R4R2G4G3', 'G1R1P1P2P3', 'G1R1R4G4P4', 'R1R2P2G4G2', 'G1R2P2P3G3', 'G1R4P3G2P4', 'G1R2G4P4G3', 'G1R4P1P2P4', 'R1R4P2P3G3', 'R4P1R2G4G3', 'R2P3G2G3R3', 'P1R2P2G2G3', 'G1R1R2G4G3', 'R1P3G2P4R3', 'R4P2G4P4G3', 'G1G4G2G3R3', 'R1P1R2P3G2', 'R2G4P3G2P4', 'G1R4P2P3R3', 'G1R2P4G3R3', 'R1P1G2P4R3', 'R1P1R2P2R3', 'R4P1P2G3R3', 'R1R4P2G2P4', 'G1R1P1R2P3', 'R1P2G2G3R3', 'G1R1P3G2P4', 'P2P3G2G3R3', 'R4P2G4P3G3', 'G1P1P3G2P4', 'G1P1P2G4G3', 'G1P1P3P4R3', 'R1R4R2P3P4', 'G1P2P3G2G3', 'G1R1G4G2P4', 'G1R4P1P2R3', 'R1R2G4P3G3', 'G1R1R4R2G3', 'G1R1P2G4G3', 'G1P2G2P4R3', 'R1P1R2G2R3', 'R1P2P3G2R3', 'G1R1P3G3R3', 'G1P1P2G4R3', 'G1P1P2G2P4', 'R2P2P3G2P4', 'R4P1P3G2G3', 'G1R4R2P3G3', 'G1R1R2G2P4', 'G1R4P1P3G2', 'R1R4G4P3R3', 'R4P2P3G2P4', 'R1P1R2P2G4', 'G1P1G4G3R3', 'P1P3G2G3R3', 'G1R1P1R2P4', 'G1R1P2P3G2', 'G1R1P1G4G3', 'R1P1R2G2G3', 'G1P1P2G2R3', 'R4P1P2P3G3', 'G1R1R4G4G2', 'G1R4R2P2G2', 'R4P1R2G2R3', 'G1R2P2P3R3', 'R1G4G2G3R3', 'P1R2G4G2G3', 'P3G2P4G3R3', 'P1R2P2G4G2', 'G1P1P3G2G3', 'R1P1P2G4P3', 'G1R1R4P2G3', 'R1P1R2P3R3', 'R4P1P2P3P4', 'P2G4G2P4R3', 'G1R4G4G3R3', 'P1R2G4G3R3', 'R1R2P2G2R3', 'G1R4R2P3R3', 'G1R4P1P2G3', 'G1R4P1R2G2', 'R4P1R2P3P4', 'R1P1R2P2G2', 'R1P1P2G2P4', 'G1R4P3G2R3', 'R1P1P2P3G2', 'P1R2G4P3G2', 'G1R4R2G4P4', 'R1P1G4G3R3', 'G1R1R2G4G2', 'G1R4R2G2P4', 'R1R4P4G3R3', 'R1R4G4P3G3', 'G1P1P2G2G3', 'R1R2P2P3R3', 'R1R2P3G2P4', 'G1R1P1P3R3', 'P1P2G4P3G3', 'R1R4G4P3G2', 'G1R1R2P3G3', 'G1R1P1R2G2', 'G1P1P2P3G2', 'R1P1R2P2G3', 'R1R2G4G3R3', 'G1R1R2P2P4', 'G1R1P1G4G2', 'R4P3G2G3R3', 'G1R1R2P2G3', 'R1P2P3G2P4', 'G1P2P4G3R3', 'R1R2P2P3G2', 'R4P1G4G2P4', 'R4P1P2P4G3', 'R1R4R2P2P4', 'R1R4R2P3G2', 'R1P1P3P4R3', 'R1P1P2G4G3', 'P1R2G2P4R3', 'R4P1G2P4G3', 'R2P2G4P3R3', 'R4P1P2G4G2', 'P1R2P2P4G3', 'G1R1P1P2G4', 'R4P2G2G3R3', 'G1R4G4P3P4', 'R1P1P3G2G3', 'R4R2P3G2G3', 'P1P2G4G2R3', 'G1P1G2G3R3', 'R1R4P1G3R3', 'G1R1P2G2R3', 'R1P2P3P4R3', 'R1P3G2P4G3', 'G1R4R2P3P4', 'G1P1R2P2R3', 'P1P2G4G2G3', 'G1G2P4G3R3', 'R1P1G4P3G3', 'R4P1P2P3R3', 'G1R1P3P4G3', 'R4P1G4G2R3', 'G1R1R4P2G2', 'R4P1G4P4R3', 'R4P1P4G3R3', 'R4P1P3G2R3', 'R1P1R2P2P3', 'G1R2P2G3R3', 'R1R4R2G4G2', 'G1P1P2P4R3', 'G1R4P2G3R3', 'G1R4G4P3G2', 'G1R2G4P4R3', 'R1R4P1G4P4', 'R1R2P4G3R3', 'R4P1P3G3R3', 'R1P1P2G4P4', 'G1R1P4G3R3', 'G1R2G4G2G3', 'R4P2G4P4R3', 'R1R4P3G2P4', 'G1R1G4G2R3', 'R1R4P1G2P4', 'R4P1R2G4G2', 'P1R2P2P4R3', 'R1P1R2P4R3', 'R1P1P3P4G3', 'R2G4P3G2R3', 'G1P1P2P4G3', 'R4P1R2P3G3', 'R1R4R2G2G3', 'R4G4P3P4R3', 'R1P2G4P3G3', 'G1P1R2P4G3', 'G1P1R2P2P4', 'G1R1P2P3R3', 'R4P1R2P2G4', 'R1R2P2G3R3', 'R1P2G4P3R3', 'G1R4P1P2G4', 'P2G4P3G2P4', 'R1R2G2P4G3', 'G1R2P2P4R3', 'R4P1R2P4G3', 'R1R4R2G4P3', 'R1R4P2G4P4', 'G1R1P1R2G4', 'R1P2G4P4G3', 'R2P2G2G3R3', 'R1P1G4P4G3', 'R4P2P4G3R3', 'R1R2P2G4P4', 'G1R1R4P3G2', 'G1R1R4P1G4', 'R1R4R2P3G3', 'R4G2P4G3R3', 'R1P1P2G2R3', 'R4P1R2P3G2', 'G1P3G2P4G3', 'G1R1G4P3P4', 'G1P3P4G3R3', 'R4P2G2P4G3', 'P1R2G2G3R3', 'R1R4P1R2G4', 'R1P1G4P3G2', 'R4P1P2G4R3', 'R4P1R2P4R3', 'R1R4R2G4P4', 'P1R2P2G3R3', 'R1R4P2P3G2', 'G1R4R2G4P3', 'G1R4R2P2G3', 'R4P1P3P4G3', 'R1R2P3G2G3', 'R2P3G2P4R3', 'R1R2G4P3G2', 'G4G2P4G3R3', 'G1R2P3G2G3', 'R4G4P3G2P4', 'R1R4R2G2R3', 'R4P1R2G4P3', 'P1G4P3G2P4', 'R4P3P4G3R3', 'G1R4P1R2G3', 'R4P1R2P2G3', 'R2P2G4G2R3', 'G1R1P1R2P2', 'G1R4P2G2P4', 'G1P1R2P2P3', 'R2P2P3P4G3', 'G1R1R4G2P4', 'R4R2G2P4R3', 'G1R4G4P4G3', 'G1R2G4P3P4', 'R1R4P1G4P3', 'G1R4P3P4G3', 'G1P1P2G4P3', 'G1P1R2P2G2', 'G1R1R4R2R3', 'G1R1R4P4G3', 'R4P2G4G2G3', 'R1P1R2G4G3', 'G1R2P2G2R3', 'G1R1R4P1P4', 'R1R4P2P3P4', 'R1R2P2P3G3', 'G1P2G4G2R3', 'R2P2P3P4R3', 'G1R1R2P3P4', 'R1R4P2P3R3', 'R4P1G4P3R3', 'R1R2P3G3R3', 'G1P1P3P4G3', 'R1R2G4P4R3', 'G1R2G4P3G3', 'R1R2G2G3R3', 'G1P1R2G4R3', 'R1R4P1P4R3', 'R1R2P2G4P3', 'R1P1P3G2P4', 'R2P2P3G2R3', 'R4P2G2P4R3', 'P1G4P3G2R3', 'R4G4G2P4G3', 'P1P3G2P4G3', 'R1P2G4G2G3', 'G1R1P3G2G3', 'R1R4G2P4R3', 'R4P1P2G2P4', 'G1P2G4G3R3', 'P1R2G4P3R3', 'R1P1P3G2R3', 'G1R4P1P3G3', 'G1R1R4P3P4', 'R1R2G4P3P4', 'G1P2G4P3G3', 'G1R4P1P3R3', 'R1P1R2G4G2', 'G1P1P2G4G2', 'R1R2P2G2G3', 'R4P2P3G2G3', 'G1G4P3G2G3', 'G1P3G2P4R3', 'R4P1P2G2G3', 'P2G2P4G3R3', 'G1R1P3P4R3', 'R4P1R2G4P4', 'R1R2P2G2P4', 'P1G4P3P4R3', 'R2P2G4P3G3', 'G1R1P1P3G2', 'R4R2P2G2P4', 'G1R2G2P4R3', 'P1R2P3G3R3', 'R1P1G2G3R3', 'G1P1G4P4G3', 'P1P2G4P3G2', 'R1R2G4G2R3', 'R1R4P3G2G3', 'R1P2G2P4R3', 'P1R2G4G2P4', 'R1R4R2P2R3', 'P1R2P2P3R3', 'P1P2P3G2G3', 'R4R2G4G2P4', 'R1G4P3P4R3', 'P1P3P4G3R3', 'G1R1P1P3P4', 'R2P2G4P3P4', 'R1R2P3P4G3', 'R1R4G4P3P4', 'G1R4P2P3G3', 'R4R2P3G3R3', 'R2G4P3P4G3', 'G1G4G2P4R3', 'G1R1R2P4R3', 'R4P2G4P3G2', 'G1P1R2P2G4', 'R1R4P1P2G4', 'R4P2G4P3P4', 'R1R4R2G4R3', 'P1R2P3P4G3', 'G1R1P1P2P4', 'R4P2P3G2R3', 'G4P3G2P4R3', 'G1R1R4P3G3', 'G1R1P1P2G2', 'R1P1G4P3R3', 'G1R1P1G2P4', 'G1R1R2P3G2', 'R4G4P3P4G3', 'R4R2G4P3R3', 'G1R2G4P3R3', 'P1G4P3G2G3', 'P2G4G2P4G3', 'R2P2G4G3R3', 'R4G4P3G3R3', 'R1R4G4G2G3', 'G1R1G4P3R3', 'G1R2P3G2P4', 'R1P2P4G3R3', 'R4P2P3G3R3', 'R1R4R2P4G3', 'G1P1R2G2R3', 'R1P1P2P4G3', 'G1R4G2P4G3', 'R4R2P2G2R3', 'G1R1G2P4G3', 'R1R2G4G2G3', 'G1P1R2P4R3', 'R1P1R2P3P4', 'G1R1P1G3R3', 'G1R1R2G3R3', 'R4P1P2P3G2', 'G1R1R4P1P3', 'G1R4P2P3P4', 'P1P2P3G3R3', 'G1R1P2G2P4', 'P1R2G2P4G3', 'R1P1R2P3G3', 'R4R2P2P4R3', 'R1R4P1P3G3', 'R2G2P4G3R3', 'G1R1R4G2R3', 'G1R4P1G4R3', 'G1P1G4P3G3', 'R1R4P1P2G2', 'R4R2P3P4R3', 'P1R2P3G2P4', 'R1P1G4P4R3', 'G1P2P3G3R3', 'G1R2G4P3G2', 'G4P3P4G3R3', 'G1P2G4P3G2', 'R4R2G4P4G3', 'G1R2P2P4G3', 'G1G4P3G3R3', 'R1R4R2P4R3', 'G1R2G4G2R3', 'G1R1G4P3G2', 'G1R1P2P4G3', 'G1R4P1R2P3', 'R1R4P1P2G3', 'G1R2G2P4G3', 'G1R1P2P4R3', 'G1R4G4G2P4', 'R1R4P1P3P4', 'G1P1G2P4R3', 'R4R2P4G3R3', 'P1R2P2G4G3', 'R4P3G2P4G3', 'G1R4P3P4R3', 'G1R1P1G2R3', 'G1P1R2P3G2', 'R4P1R2P2G2', 'R1R4P1G2R3', 'R1R4P1G4G2', 'R1P2G4G2R3', 'R4P2G4P3R3', 'G1R4P1P3P4', 'G1R2P2G2P4', 'G1R1R2G4P4', 'G4P3G2P4G3', 'R4P1G4P3G3', 'R1P1R2P4G3', 'R1R2P2G4R3', 'R1R4P1P2P4', 'R4R2G4P3G2', 'G1R1P2P3P4', 'G1R4R2G4G2', 'G1R4R2P2G4', 'R1G4G2P4G3', 'R1R2P2P4R3', 'R4P2G4G2P4', 'G1R1G4P4R3', 'R4P1P2G4G3', 'G1P1G4P4R3', 'G1R4P1P2P3', 'P1R2G4G2R3', 'P2P3G2P4G3', 'R1P1P2G2G3', 'R2P2G4G2P4', 'P2P3G2P4R3', 'P2G4P3P4R3', 'R1R2G4P3R3', 'R4R2G4P3G3', 'R2P2G4G2G3', 'G1P1G4P3R3', 'G1R1R2G4R3', 'G1R1P1P2G3', 'P1P2G4G3R3', 'R1R4R2G4G3', 'R1P1P2G4G2', 'R2G4G2P4R3', 'R1R4P2G2G3', 'G1R4G4P4R3', 'R4R2P3G2P4', 'R2G4P3P4R3', 'G1R1R2P2P3', 'G1R2P3P4R3', 'G1R4P1R2G4', 'R4P1G2P4R3', 'R4R2P2P4G3', 'R2P2P3G3R3', 'P1R2P2G4P3', 'P1P2P3G2R3', 'G1R4P3G3R3', 'G1R1R4G2G3', 'G1R4P2P4R3', 'R1G4P4G3R3', 'R2G4G2G3R3', 'R1R4R2G3R3', 'R2G4G2P4G3', 'R1P1P2G3R3', 'G1P2G2G3R3', 'R1P2P3G3R3', 'G1P2G4P3P4', 'G1R1P2G4G2', 'R4R2P2P3G2', 'G1R4G4P3R3', 'R1R4P1P3G2', 'G1R1R2P3R3', 'R1R4P3G2R3'}\n",
            "lenght of event =  792\n",
            "PE =  33/182\n"
          ]
        }
      ]
    }
  ]
}