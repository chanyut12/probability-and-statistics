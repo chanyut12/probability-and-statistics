{
  "nbformat": 4,
  "nbformat_minor": 0,
  "metadata": {
    "colab": {
      "provenance": [],
      "include_colab_link": true
    },
    "kernelspec": {
      "name": "python3",
      "display_name": "Python 3"
    },
    "language_info": {
      "name": "python"
    }
  },
  "cells": [
    {
      "cell_type": "markdown",
      "metadata": {
        "id": "view-in-github",
        "colab_type": "text"
      },
      "source": [
        "<a href=\"https://colab.research.google.com/github/chanyut12/probability-and-statistics/blob/main/66160295_w5_G2.ipynb\" target=\"_parent\"><img src=\"https://colab.research.google.com/assets/colab-badge.svg\" alt=\"Open In Colab\"/></a>"
      ]
    },
    {
      "cell_type": "markdown",
      "metadata": {
        "id": "InfjT-JTf0EO"
      },
      "source": [
        "**ให้นิสิต เลือกเมนู File-->Save a copy in drive เพื่อคัดลอกไฟล์ไปไว้ในไดร์ฟของนิสิตก่อน และเปลี่ยนชื่อไฟล์เป็น รหัสนิสิต_w5_G1 ค่ะ**\n",
        "\n",
        "จงเขียนโปรแกรมเพื่อหาค่าที่โจทย์ต้องการและแสดงผลลัพธ์ออกทางหน้าจอ\n",
        "\n",
        "1. ถ้าหยิบไพ่หนึ่งใบจากสำรับ จงหาความน่าจะเป็นที่จะได้ไพ่ 8 หรือไพ่ ที่มีหน้าไพ่สีดำ\n",
        "\n",
        "2. ทอดลูกเต๋า 1 ลูกพร้อม 4 ครั้ง จงหาความน่าจะเป็นที่ลูกเต๋าจะขึ้นแต้ม 5 อย่างมาก 2 ครั้ง\n",
        "\n",
        "\n",
        "3. คณะวิทยาการสารสนเทศมีนิสิตจบการศึกษาทั้งสิ้นจำนวน 50 คน เป็นสาขา SE จำนวน 12 คน สาขา CS จำนวน 17 คน สาขา IT จำนวน 10 คน และสาขา AAI จำนวน 11 คน หากสุ่มเลือกนิสิตมา 1 คน จงหาความน่าจะเป็นที่จะได้นิสิตที่จบจากสาขา CS  หรือ AAI หรือ SE\n",
        "\n",
        "\n",
        "4. ในบันทึกของโรงพยาบาลแสดงจำนวนวันที่คนไข้พักรักษาตัวในโรงพยาบาล   \tจงหาความน่าจะเป็นที่คนไข้เป็นผู้หญิง\n",
        "![w6_3.jpg](data:image/jpeg;base64,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)\n",
        "\n",
        "\n",
        "5. ในบันทึกของโรงพยาบาลแสดงจำนวนวันที่คนไข้พักรักษาตัวในโรงพยาบาล จากข้อ 4. \tจงหาความน่าจะเป็นที่คนไข้อยู่โรงพยาบาลอย่างน้อย 3 วัน\n",
        "\n",
        "6. ในบันทึกของโรงพยาบาลแสดงจำนวนวันที่คนไข้พักรักษาตัวในโรงพยาบาล จากข้อ 4. \tจงหาความน่าจะเป็นที่คนไข้อยู่โรงพยาบาล 2 วัน หรือ คนไข้อยู่โรงพยาบาล 6 วัน\n",
        "\n",
        "7. ในบันทึกของโรงพยาบาลแสดงจำนวนวันที่คนไข้พักรักษาตัวในโรงพยาบาล จากข้อ 4. \tจงหาความน่าจะเป็นที่คนไข้เป็นคนไข้หญิง อยู่โรงพยาบาล อย่างน้อย 4 วัน\n",
        "\n",
        "\n",
        "\n"
      ]
    },
    {
      "cell_type": "code",
      "execution_count": null,
      "metadata": {
        "id": "pOKUYYrcwix9"
      },
      "outputs": [],
      "source": [
        "#ชื่อ..................รหัส..........."
      ]
    },
    {
      "cell_type": "code",
      "source": [
        "#1.ถ้าหยิบไพ่หนึ่งใบจากสำรับ จงหาความน่าจะเป็นที่จะได้ไพ่ 8 หรือไพ่ ที่มีหน้าไพ่สีดำ\n",
        "# import pandas as pd\n",
        "# from fractions import Fraction\n",
        "\n",
        "# n = set(range(2,11))\n",
        "# points = {str(x) for x in n} | set('AJQK')\n",
        "# faces = \"SHDC\"\n",
        "# suit = {a+b for a in points  for b in faces}\n",
        "# a = len(suit)\n",
        "# print(suit)\n",
        "# print(a)\n",
        "# card_8 = {x for x in suit if x.count(\"8\") == 1}\n",
        "# Pcard_8 = Fraction(card_8, a)\n",
        "# black1 = {x for x in suit if x.count(\"S\") == 1}\n",
        "# black2 = {x for x in suit if x.count(\"C\") == 1}\n",
        "# black = black1|black2\n",
        "# Pblack = Fraction(black,a)\n",
        "\n",
        "# eight_black = card_8 & black\n",
        "\n",
        "# Peight_black  = Fraction(eight_black, a)\n",
        "# PE = Pcard_8 + Pblack - Peight_black\n",
        "\n",
        "# print(\"ความน่าจะเป็นที่จะได้ไพ่ 8 หรือไพ่ ที่มีหน้าไพ่สีดำ\",PE)\n",
        "#อันนี้แตกครับ\n",
        "\n",
        "\n"
      ],
      "metadata": {
        "colab": {
          "base_uri": "https://localhost:8080/"
        },
        "id": "YQYbENG6ZY_F",
        "outputId": "f9dae963-022f-4938-8447-22910e59e97d"
      },
      "execution_count": 35,
      "outputs": [
        {
          "output_type": "stream",
          "name": "stdout",
          "text": [
            "Probability of getting an 8 or a black card: 7/13\n"
          ]
        }
      ]
    },
    {
      "cell_type": "code",
      "source": [
        "import pandas as pd\n",
        "from fractions import Fraction\n",
        "\n",
        "n = set(range(2,11))\n",
        "points = {str(x) for x in n} | {'A', 'J', 'Q', 'K'}\n",
        "faces = \"SHDC\"\n",
        "suit = {x + y for x in points for y in faces}\n",
        "a = len(suit)\n",
        "\n",
        "card_8 = {x for x in suit if '8' in x}\n",
        "Pcard_8 = Fraction(len(card_8), a)\n",
        "\n",
        "\n",
        "black1 = {x for x in suit if 'S' in x}\n",
        "black2 = {x for x in suit if 'C' in x}\n",
        "black = black1 | black2\n",
        "\n",
        "Pblack = Fraction(len(black), a)\n",
        "\n",
        "eight_black = card_8 & black\n",
        "\n",
        "Peight_black  = Fraction(len(eight_black), a)\n",
        "\n",
        "\n",
        "PE = Pcard_8 + Pblack - Peight_black\n",
        "\n",
        "print(\"ความน่าจะเป็นที่จะได้ไพ่ 8 หรือไพ่ ที่มีหน้าไพ่สีดำ  = \", PE)"
      ],
      "metadata": {
        "colab": {
          "base_uri": "https://localhost:8080/"
        },
        "id": "D9HP6_xiju1u",
        "outputId": "718751b5-c738-4eaa-86a2-850b60fff664"
      },
      "execution_count": 45,
      "outputs": [
        {
          "output_type": "stream",
          "name": "stdout",
          "text": [
            "ความน่าจะเป็นที่จะได้ไพ่ 8 หรือไพ่ ที่มีหน้าไพ่สีดำ  =  7/13\n"
          ]
        }
      ]
    },
    {
      "cell_type": "code",
      "source": [
        "#2.ทอดลูกเต๋า 1 ลูกพร้อม 4 ครั้ง จงหาความน่าจะเป็นที่ลูกเต๋าจะขึ้นแต้ม 5 อย่างมาก 2 ครั้ง\n",
        "num = \"123456\"\n",
        "S = {a + b + c + d for a in num for b in num for c in num for d in num}\n",
        "nS = len(S)\n",
        "print(nS)\n",
        "E2 = { x for x in S if x.count(\"5\")<=2}\n",
        "print(E2)\n",
        "nE2 = len(E2)\n",
        "PE2 = Fraction(nE2 , nS)\n",
        "print(\"ความน่าจะเป็นที่ลูกเต๋าจะขึ้นแต้ม 5 อย่างมาก 2 ครั้ง = \",PE2)"
      ],
      "metadata": {
        "colab": {
          "base_uri": "https://localhost:8080/"
        },
        "id": "EknqsIpcgRnB",
        "outputId": "e58ff497-4ed0-4f5a-fb21-72cb93150622"
      },
      "execution_count": 36,
      "outputs": [
        {
          "output_type": "stream",
          "name": "stdout",
          "text": [
            "1296\n",
            "{'2244', '5536', '2163', '6235', '1453', '5343', '4526', '3315', '6144', '6425', '2312', '3625', '4441', '6416', '6313', '4252', '3144', '3115', '6654', '6136', '2114', '4415', '2323', '3335', '4456', '1122', '3111', '3114', '1636', '1316', '3456', '1314', '1115', '4362', '5456', '3454', '4135', '6633', '3263', '4431', '6135', '5241', '6435', '4552', '6661', '4654', '2241', '5533', '3622', '5215', '1614', '2634', '5616', '6663', '4625', '1131', '2151', '1161', '1631', '3513', '1634', '3231', '4646', '3653', '2245', '2166', '5654', '4234', '4236', '1153', '3225', '2536', '3646', '5114', '3521', '2522', '6265', '3556', '2211', '1221', '4652', '4155', '6623', '6453', '3642', '2614', '6632', '1254', '3445', '2133', '6132', '1551', '4523', '4216', '4632', '1613', '2214', '4455', '1351', '5261', '3614', '5661', '6461', '6226', '4112', '5435', '6363', '1535', '2661', '5356', '5125', '5346', '6326', '5216', '5224', '3234', '6355', '6512', '1566', '5325', '5126', '1423', '1612', '1225', '3142', '1434', '4314', '5156', '5151', '2466', '4611', '5345', '2532', '2616', '2315', '3565', '3641', '1622', '3324', '6125', '6533', '5113', '5131', '1422', '1415', '1651', '4334', '6316', '2446', '4311', '2335', '1452', '1321', '2431', '2636', '2313', '4516', '2452', '6433', '1252', '2413', '4143', '1251', '4656', '2156', '1215', '6225', '3116', '5445', '6162', '5252', '2562', '1621', '5411', '6464', '1541', '3633', '4662', '3211', '2345', '6552', '5516', '4565', '1565', '1643', '3323', '1512', '1224', '6255', '5665', '1335', '3666', '6121', '4255', '5522', '3443', '3166', '6224', '4336', '4345', '3242', '5465', '5451', '3511', '2635', '1222', '4326', '4241', '5221', '2145', '4612', '6163', '5423', '1352', '6411', '2426', '3446', '1223', '1133', '5446', '6452', '3525', '2445', '3314', '3244', '1361', '2111', '5233', '4645', '2411', '3233', '4124', '4425', '3134', '3534', '4245', '4452', '6364', '4126', '1445', '5311', '1232', '3135', '3341', '2321', '3334', '6233', '6161', '3466', '1635', '4464', '5526', '5133', '2152', '3541', '3235', '2416', '5463', '3436', '1431', '4111', '2432', '5313', '4644', '4451', '2326', '6366', '3264', '6564', '5631', '2164', '1432', '3124', '3222', '5333', '3326', '4211', '2216', '6421', '5646', '6441', '2451', '5212', '4532', '3441', '3356', '2412', '4131', '5441', '6642', '1546', '2663', '6155', '4354', '2136', '3522', '2461', '3643', '6526', '2666', '2422', '1235', '2252', '6645', '5424', '6214', '1253', '2425', '2611', '1655', '6635', '5152', '4164', '3361', '6432', '6465', '2534', '3634', '2142', '6134', '5436', '6334', '5365', '3563', '6264', '2646', '6333', '5363', '1132', '4351', '3434', '3533', '5321', '4635', '2436', '3366', '6536', '4651', '4321', '4664', '6153', '3352', '1536', '5524', '3154', '1126', '3213', '5146', '6431', '2253', '5264', '5664', '1166', '2324', '5341', '4341', '6412', '3612', '6151', '4142', '6122', '1123', '1523', '2544', '6116', '2656', '3362', '3661', '1333', '2643', '2521', '4346', '5416', '3652', '3224', '6662', '3146', '3624', '2514', '3524', '2525', '5111', '2664', '2365', '4246', '5236', '5442', '4446', '5312', '3265', '1442', '6643', '6146', '2543', '4524', '1236', '1146', '3153', '3536', '3631', '1216', '4353', '2665', '2361', '4542', '5315', '6365', '4416', '4636', '1156', '5166', '5514', '3351', '4564', '1263', '4224', '2256', '2334', '3215', '3623', '3255', '5636', '3226', '3236', '1616', '6213', '2546', '1163', '2261', '6414', '4163', '5145', '3663', '1624', '6651', '4422', '6143', '1315', '3353', '6514', '2116', '1342', '3261', '4361', '1124', '2623', '5651', '1653', '6523', '4535', '3251', '2566', '5134', '4414', '1435', '4433', '1334', '4223', '3615', '4243', '6513', '1532', '6336', '3656', '1114', '1561', '6253', '4264', '4136', '4563', '5543', '5513', '2433', '6314', '3526', '4614', '6232', '3333', '3422', '4512', '2463', '6516', '3223', '4262', '2523', '6656', '4453', '6525', '6344', '5331', '2342', '2143', '6551', '2131', '6351', '3553', '5116', '6644', '1264', '1441', '1323', '5656', '6531', '1363', '1661', '3535', '4653', '5564', '2231', '5615', '6423', '3212', '2343', '2442', '2556', '2325', '4534', '6614', '5434', '3425', '6524', '5334', '1245', '2366', '4315', '4666', '3163', '1244', '4214', '4254', '3543', '4215', '5353', '5235', '3322', '5635', '4324', '3512', '5523', '5431', '5112', '6541', '6256', '2415', '4165', '2424', '1666', '1155', '2234', '4333', '6563', '4332', '4412', '5164', '5454', '2113', '6422', '5326', '2653', '1165', '5512', '1615', '1646', '6466', '4631', '4161', '1111', '1611', '5613', '6535', '3266', '6446', '2356', '6565', '4364', '6641', '2262', '4114', '3664', '4316', '5323', '1564', '1336', '1356', '6646', '1545', '5142', '3162', '5316', '2511', '3246', '2632', '6436', '2526', '3414', '2112', '6445', '6612', '1213', '4615', '6311', '1424', '6666', '4123', '4562', '5342', '3554', '6665', '1343', '4553', '2132', '5161', '6625', '2232', '2414', '5462', '3133', '6234', '5663', '3313', '3433', '6342', '6622', '3312', '5466', '5666', '1444', '1633', '3636', '4344', '6123', '5542', '4545', '1145', '6664', '3421', '1355', '6331', '5632', '4445', '2515', '4232', '5223', '4642', '4665', '3431', '5532', '5444', '2362', '2333', '3566', '4256', '4221', '2565', '3316', '1425', '4113', '4322', '2531', '6332', '2316', '1136', '4521', '4423', '1325', '3342', '6222', '5324', '5163', '2516', '1113', '2554', '5362', '4134', '2435', '4442', '1466', '1456', '6216', '6511', '5361', '3544', '4551', '2124', '4154', '6653', '3354', '4244', '6335', '1645', '6114', '6115', '2243', '1412', '4546', '3644', '4263', '5511', '1436', '5253', '3161', '1142', '1656', '5354', '5541', '3453', '6353', '2352', '5461', '2146', '5622', '5121', '4331', '5623', '1354', '5211', '4213', '1151', '1632', '1463', '1164', '2235', '3562', '4152', '6246', '5561', '1141', '3155', '5612', '4461', '2266', '2311', '5265', '3523', '6522', '5332', '5452', '3346', '1521', '5422', '6454', '6451', '2122', '3253', '4411', '4325', '5611', '5633', '4133', '4115', '4343', '6615', '1433', '2444', '1121', '5344', '5366', '3143', '1446', '5621', '4235', '1313', '3635', '6324', '2434', '2456', '2443', '4436', '2622', '6553', '3325', '6542', '5226', '6133', '5144', '3546', '1526', '1261', '1154', '1135', '2615', '1233', '2453', '2255', '3626', '3365', '1464', '1531', '1421', '1234', '1525', '5652', '1516', '4261', '4616', '2564', '4266', '6626', '1455', '5364', '6631', '6463', '5634', '2464', '6236', '4356', '6215', '4655', '6545', '5162', '6341', '5534', '3121', '5531', '3412', '4132', '2222', '1515', '3632', '2553', '5645', '6652', '4162', '2533', '5521', '2213', '1353', '2165', '6634', '5662', '5643', '4525', '6252', '1255', '3542', '3355', '4212', '2322', '3444', '4313', '2563', '3343', '6544', '4435', '1623', '6655', '1125', '1443', '1341', '1266', '6251', '6346', '6613', '5256', '6142', '5351', '3545', '5546', '5624', '5443', '2212', '3221', '5413', '1331', '1665', '1514', '1246', '2344', '2645', '3426', '1332', '3112', '6362', '4141', '4144', '6262', '2224', '4531', '6321', '2251', '2215', '4352', '4515', '1344', '6345', '2162', '4641', '6231', '2331', '5234', '4533', '4432', '6561', '4233', '4125', '1534', '3464', '3145', '3552', '6242', '6126', '3516', '1451', '2363', '1322', '3216', '2153', '4355', '2631', '6413', '3662', '5335', '1556', '2353', '3241', '4153', '1346', '2545', '1662', '1324', '4121', '2144', '6444', '6554', '2513', '6624', '1411', '1311', '4643', '1212', '2421', '4663', '4622', '5222', '3113', '4543', '5566', '4556', '6261', '2126', '1562', '5232', '3136', '1465', '6534', '5132', '6223', '2233', '2621', '3452', '2512', '1152', '1144', '1663', '3156', '6243', '5231', '1462', '3531', '5122', '6546', '1365', '2652', '5653', '2551', '6111', '5242', '3132', '1454', '5626', '6343', '6566', '2341', '2462', '3451', '1542', '3424', '2115', '6263', '3461', '5562', '3515', '2641', '1265', '3245', '1345', '5135', '4312', '5266', '1362', '2154', '6515', '1626', '3432', '2125', '4166', '1641', '1664', '2465', '5322', '1533', '6415', '2626', '3611', '4514', '6245', '2121', '4634', '2135', '3415', '1116', '3141', '5453', '1461', '1414', '5225', '5254', '1256', '4251', '1162', '1366', '6113', '3164', '6611', '4626', '2524', '6442', '6352', '2254', '4365', '4513', '6543', '3344', '4434', '3423', '3311', '2561', '2655', '4363', '4566', '6124', '2223', '5464', '2264', '6266', '6166', '4613', '6636', '1513', '3613', '1364', '1642', '4222', '5414', '5263', '2265', '2236', '5165', '5153', '3465', '6616', '3363', '4511', '4253', '3345', '6154', '3416', '2354', '3321', '4335', '3252', '5625', '1143', '4151', '2123', '6211', '2541', '1416', '3214', '3435', '5614', '4465', '1262', '1231', '2441', '1211', '5314', '6145', '5425', '3262', '3122', '4421', '4443', '3411', '5123', '1644', '2535', '3332', '5213', '1654', '5642', '1226', '3413', '1134', '2225', '6165', '3243', '2332', '3152', '6456', '3331', '3651', '5432', '1553', '2351', '4122', '2625', '2542', '3123', '6354', '5641', '6131', '4522', '3151', '5245', '2642', '2263', '6244', '1112', '4156', '1413', '4242', '6361', '4146', '2455', '6426', '6556', '4265', '6312', '4366', '4661', '2221', '1544', '3621', '6212', '1563', '3126', '5244', '1652', '4541', '5136', '1522', '6156', '2155', '5251', '2644', '4463', '5433', '6621', '3232', '2141', '6164', '2355', '2226', '4226', '6322', '6325', '1625', '2423', '3462', '3131', '4116', '5415', '5115', '5421', '2633', '6141', '6434', '4554', '1214', '3654', '3616', '1243', '2454', '3463', '5336', '4342', '1241', '1312', '4621', '4413', '2161', '1511', '2314', '6562', '6532', '5246', '2662', '4466', '1552', '5243', '2364', '2624', '3256', '3165', '2612', '3364', '5143', '1554', '5141', '2242', '4424', '3125', '3254', '3645', '6323', '5124', '2246', '3514', '6462', '6241', '4561', '1326', '2336', '6424', '5412', '5644', '4623', '6152', '4145', '4444', '1524', '3551', '6455', '6221', '4536', '4323', '4231', '3336', '3665', '3564', '3532', '6443', '6521', '1426', '2651', '5154', '4225', '5352', '6356', '5544', '5563', '6254', '4544', '1242', '4462', '2552', '2613', '4633', '3655', '6315', '3455', '2346', '2134', '2654', '4454', '5214', '3442', '5262', '5426', '3561', '4426', '4624', '6112', '1543'}\n",
            "ความน่าจะเป็นที่ลูกเต๋าจะขึ้นแต้ม 5 อย่างมาก 2 ครั้ง 425/432\n"
          ]
        }
      ]
    },
    {
      "cell_type": "code",
      "source": [
        "#3.คณะวิทยาการสารสนเทศมีนิสิตจบการศึกษาทั้งสิ้นจำนวน 50 คน เป็นสาขา SE จำนวน 12 คน สาขา CS จำนวน 17 คน สาขา IT จำนวน 10 คน และสาขา AAI จำนวน 11 คน หากสุ่มเลือกนิสิตมา 1 คน จงหาความน่าจะเป็นที่จะได้นิสิตที่จบจากสาขา CS หรือ AAI หรือ SE\n",
        "n1 = set(range(1,13))\n",
        "n2 = set(range(1,18))\n",
        "n3 = set(range(1,11))\n",
        "n4 = set(range(1,12))\n",
        "nn1 = {str(x) for x in n1}\n",
        "nn2 = {str(x) for x in n2}\n",
        "nn3 = {str(x) for x in n3}\n",
        "nn4 = {str(x) for x in n4}\n",
        "se = {\"SE\" + a for a in nn1}\n",
        "cs = {\"CS\" + a for a in nn2}\n",
        "it = {\"IT\" + a for a in nn3}\n",
        "aai = {\"AAI\" + a for a in nn4}\n",
        "\n",
        "all = se|cs|it|aai\n",
        "nS = len(all)\n",
        "pse = Fraction(len(se)/nS)\n",
        "pcs = Fraction(len(cs)/nS)\n",
        "pit = Fraction(len(it)/nS)\n",
        "paai = Fraction(len(aai)/nS)\n",
        "PE3 = pcs + pse + paai\n",
        "print(\"ความน่าจะเป็นที่จะได้นิสิตที่จบจากสาขา CS หรือ AAI หรือ SE = \",PE3 , \",   = 0.8\")"
      ],
      "metadata": {
        "colab": {
          "base_uri": "https://localhost:8080/"
        },
        "id": "QPaxHqLdh9UC",
        "outputId": "a05d95b9-f361-42d2-aa28-7c50ae7b75ae"
      },
      "execution_count": 43,
      "outputs": [
        {
          "output_type": "stream",
          "name": "stdout",
          "text": [
            "ความน่าจะเป็นที่จะได้นิสิตที่จบจากสาขา CS หรือ AAI หรือ SE =  28823037615171175/36028797018963968 ,   = 0.8\n"
          ]
        }
      ]
    },
    {
      "cell_type": "code",
      "source": [
        "#4.ในบันทึกของโรงพยาบาลแสดงจำนวนวันที่คนไข้พักรักษาตัวในโรงพยาบาล จงหาความน่าจะเป็นที่\n",
        "import pandas as pd\n",
        "from fractions import Fraction\n",
        "df = pd.DataFrame({'male':[5,8,13,9,11,3],'female':[17,12,7,15,4,12],},index = [1,2,3,4,5,6])\n",
        "\n",
        "df[\"sum\"] = df.sum(axis=1)\n",
        "print(df)\n",
        "nfemale = df['female'].sum()\n",
        "print(nfemale)\n",
        "nsum = df['sum'].sum()\n",
        "print(nsum)\n",
        "PE1 = Fraction(nfemale,nsum)\n",
        "print(\"ความน่าจะเป็น =  \",PE1)"
      ],
      "metadata": {
        "colab": {
          "base_uri": "https://localhost:8080/"
        },
        "id": "0P3J1EsuTun3",
        "outputId": "6c9fef88-b164-428f-9678-d565efe55bc3"
      },
      "execution_count": 10,
      "outputs": [
        {
          "output_type": "stream",
          "name": "stdout",
          "text": [
            "   male  female  sum\n",
            "1     5      17   22\n",
            "2     8      12   20\n",
            "3    13       7   20\n",
            "4     9      15   24\n",
            "5    11       4   15\n",
            "6     3      12   15\n",
            "67\n",
            "116\n",
            "ความน่าจะเป็น 67/116\n"
          ]
        }
      ]
    },
    {
      "cell_type": "code",
      "source": [
        "#5.ในบันทึกของโรงพยาบาลแสดงจำนวนวันที่คนไข้พักรักษาตัวในโรงพยาบาล จากข้อ 4. จงหาความน่าจะเป็นที่คนไข้อยู่โรงพยาบาลอย่างน้อย 3 วัน\n",
        "#algorithms =  อย่างน้อย 3 วัน ก็หมายความว่า ตั้งแต่ 3 ขึ้นไป\n",
        "nE2 = df.loc[3:6 , 'sum'].sum()\n",
        "PE2 = Fraction(nE2 , nsum)\n",
        "print(\"ความน่าจะเป็นที่คนไข้อยู่โรงพยาบาลอย่างน้อย 3 วัน = \",PE2)"
      ],
      "metadata": {
        "colab": {
          "base_uri": "https://localhost:8080/"
        },
        "id": "V40GfC6hU4jt",
        "outputId": "d8f404be-4bba-4ad4-df66-0fd25dd7f988"
      },
      "execution_count": 13,
      "outputs": [
        {
          "output_type": "stream",
          "name": "stdout",
          "text": [
            "ความน่าจะเป็นที่คนไข้อยู่โรงพยาบาลอย่างน้อย 3 วัน =  37/58\n"
          ]
        }
      ]
    },
    {
      "cell_type": "code",
      "source": [
        "#6.ในบันทึกของโรงพยาบาลแสดงจำนวนวันที่คนไข้พักรักษาตัวในโรงพยาบาล จากข้อ 4. จงหาความน่าจะเป็นที่คนไข้อยู่โรงพยาบาล 2 วัน หรือ คนไข้อยู่โรงพยาบาล 6 วัน\n",
        "NE3 = df.at[2,'sum'].sum()\n",
        "NE4 = df.at[6, \"sum\"].sum()\n",
        "NE5 = NE4 + NE3\n",
        "PE5 = Fraction(NE5,nsum)\n",
        "print('ความน่าจะเป็นที่คนไข้อยู่โรงพยาบาล 2 วัน หรือ คนไข้อยู่โรงพยาบาล 6 วัน = ',PE5)"
      ],
      "metadata": {
        "colab": {
          "base_uri": "https://localhost:8080/"
        },
        "id": "EBqxJijOWyxW",
        "outputId": "0922295a-d5f9-4482-afa2-178128c60d4f"
      },
      "execution_count": 16,
      "outputs": [
        {
          "output_type": "stream",
          "name": "stdout",
          "text": [
            "ความน่าจะเป็นที่คนไข้อยู่โรงพยาบาล 2 วัน หรือ คนไข้อยู่โรงพยาบาล 6 วัน =  35/116\n"
          ]
        }
      ]
    },
    {
      "cell_type": "code",
      "source": [
        "#7.ในบันทึกของโรงพยาบาลแสดงจำนวนวันที่คนไข้พักรักษาตัวในโรงพยาบาล จากข้อ 4. จงหาความน่าจะเป็นที่คนไข้เป็นคนไข้หญิง อยู่โรงพยาบาล อย่างน้อย 4 วัน\n",
        "NE7 = df.loc[4:6 , \"female\"].sum()\n",
        "PE7 = Fraction(NE7, nsum)\n",
        "print(\"ความน่าจะเป็นที่คนไข้เป็นคนไข้หญิง อยู่โรงพยาบาล อย่างน้อย 4 วัน = \",PE7)"
      ],
      "metadata": {
        "colab": {
          "base_uri": "https://localhost:8080/"
        },
        "id": "1y0It9seYHPz",
        "outputId": "ffa352f2-3ae2-435e-c53c-ecbc5421eb97"
      },
      "execution_count": 18,
      "outputs": [
        {
          "output_type": "stream",
          "name": "stdout",
          "text": [
            "ความน่าจะเป็นที่คนไข้เป็นคนไข้หญิง อยู่โรงพยาบาล อย่างน้อย 4 วัน =  31/116\n"
          ]
        }
      ]
    },
    {
      "cell_type": "code",
      "source": [
        "#8.ในบันทึกของโรงพยาบาลแสดงจำนวนวันที่คนไข้พักรักษาตัวในโรงพยาบาล จากข้อ 4. จงหาความน่าจะเป็นที่คนไข้เป็นคนไข้หญิงหรืออยู่โรงพยาบาล อย่างน้อย 4 วัน\n",
        "NE81 = df.loc[4:6, \"female\"].sum()\n",
        "NE82 = df.loc[4:6 , \"sum\"].sum()\n",
        "NE8 = NE82 - NE81\n",
        "PE8 = Fraction(NE8, nsum)\n",
        "print(\"ความน่าจะเป็นที่คนไข้เป็นคนไข้หญิงหรืออยู่โรงพยาบาล อย่างน้อย 4 วัน = \", PE8)"
      ],
      "metadata": {
        "colab": {
          "base_uri": "https://localhost:8080/"
        },
        "id": "uGHslNLeZ6zq",
        "outputId": "66e301d0-fa0f-4465-8192-bce3ffdc4963"
      },
      "execution_count": 22,
      "outputs": [
        {
          "output_type": "stream",
          "name": "stdout",
          "text": [
            "ความน่าจะเป็นที่คนไข้เป็นคนไข้หญิงหรืออยู่โรงพยาบาล อย่างน้อย 4 วัน =  23/116\n"
          ]
        }
      ]
    }
  ]
}