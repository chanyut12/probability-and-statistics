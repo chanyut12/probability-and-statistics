{
  "nbformat": 4,
  "nbformat_minor": 0,
  "metadata": {
    "colab": {
      "provenance": [],
      "include_colab_link": true
    },
    "kernelspec": {
      "name": "python3",
      "display_name": "Python 3"
    },
    "language_info": {
      "name": "python"
    }
  },
  "cells": [
    {
      "cell_type": "markdown",
      "metadata": {
        "id": "view-in-github",
        "colab_type": "text"
      },
      "source": [
        "<a href=\"https://colab.research.google.com/github/chanyut12/probability-and-statistics/blob/main/66160295_w6_G2.ipynb\" target=\"_parent\"><img src=\"https://colab.research.google.com/assets/colab-badge.svg\" alt=\"Open In Colab\"/></a>"
      ]
    },
    {
      "cell_type": "markdown",
      "metadata": {
        "id": "InfjT-JTf0EO"
      },
      "source": [
        "**ให้นิสิต เลือกเมนู File-->Save a copy in drive เพื่อคัดลอกไฟล์ไปไว้ในไดร์ฟของนิสิตก่อน และเปลี่ยนชื่อไฟล์เป็น รหัสนิสิต_w6 ค่ะ**\n",
        "\n",
        "จงเขียนโปรแกรมเพื่อหาค่าที่โจทย์ต้องการและแสดงผลลัพธ์ออกทางหน้าจอ\n",
        "\n",
        "1. ในบันทึกของโรงพยาบาลแสดงจำนวนวันที่คนไข้พักรักษาตัวในโรงพยาบาล   \tจงหาความน่าจะเป็นที่คนไข้อยู่โรงพยาบาลอย่างน้อย 4 วัน เมื่อทราบว่าเป็นคนไข้หญิง\n",
        "![w6_3.jpg](data:image/jpeg;base64,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)\n",
        "\n",
        "\n",
        "2. ในบันทึกของโรงพยาบาลแสดงจำนวนวันที่คนไข้พักรักษาตัวในโรงพยาบาล จากข้อ 1. \tจงหาความน่าจะเป็นที่คนไข้อยู่โรงพยาบาลอย่างมาก 3 วัน เมื่อทราบว่าเป็นคนไข้ชาย\n",
        "\n",
        "3. ในบันทึกของโรงพยาบาลแสดงจำนวนวันที่คนไข้พักรักษาตัวในโรงพยาบาล จากข้อ 1. \tจงหาความน่าจะเป็นที่คนไข้เป็นคนไข้ชาย  เมื่อทราบว่าเป็นคนไข้ที่อยู่โรงพยาบาล 2 วัน\n",
        "\n",
        "4. ทอดลูกเต๋า 1 ลูก 3 ครั้ง จงหาความน่าจะเป็นที่ลูกเต๋าจะไม่ขึ้นแต้ม 5 เลยแม้แต่ครั้งเดียว\n",
        "\n",
        "5. ทอดลูกเต๋า 1 ลูก 3 ครั้ง จงหาความน่าจะเป็นที่ลูกเต๋าจะขึ้นแต้ม 5 อย่างน้อย 1 ครั้ง\n",
        "\n",
        "6. กล่องใบหนึ่งมีหลอดไฟดี 4 หลอด และหลอดไฟเสีย 5 หลอดปนกัน สุ่มหยิบหลอดไฟ 2 ครั้ง โดยหยิบทีละหลอดแล้วใส่คืน จงหาความน่าจะเป็นที่ได้หลอดไฟดีในการหยิบครั้งแรกและครั้งที่สอง\n",
        "\n",
        "7. กล่องใบหนึ่งมีหลอดไฟดี 4 หลอด และหลอดไฟเสีย 5 หลอดปนกัน สุ่มหยิบหลอดไฟ 3 ครั้ง โดยหยิบทีละหลอดแบบไม่ใส่คืน จงหาความน่าจะเป็นที่ได้หลอดไฟดีในการหยิบครั้งแรกและ และได้หลอดไฟเสียในการหยิบครั้งที่สอง และครั้งที่สาม\n",
        "\n"
      ]
    },
    {
      "cell_type": "code",
      "execution_count": null,
      "metadata": {
        "id": "pOKUYYrcwix9"
      },
      "outputs": [],
      "source": [
        "#ชื่อ..................รหัส..........."
      ]
    },
    {
      "cell_type": "code",
      "source": [
        "# 1.ในบันทึกของโรงพยาบาลแสดงจำนวนวันที่คนไข้พักรักษาตัวในโรงพยาบาล จงหาความน่าจะเป็นที่คนไข้อยู่โรงพยาบาลอย่างน้อย 4 วัน เมื่อทราบว่าเป็นคนไข้หญิง\n",
        "import pandas as pd\n",
        "from fractions import Fraction\n",
        "df = pd.DataFrame({'male':[5,8,13,9,11,3],'female':[17,12,7,15,4,12]},index = [1,2,3,4,5,6])\n",
        "\n",
        "df[\"sum\"] = df.sum(axis=1)\n",
        "print(df)\n",
        "\n",
        "nS1 = df['female'].sum()\n",
        "nE1 = df.loc[4:6,'female'].sum()\n",
        "PE1 = Fraction(nE1,nS1)\n",
        "\n",
        "print('1.ความน่าจะเป็นที่คนไข้อยู่โรงพยาบาลอย่างน้อย 4 วัน เมื่อทราบว่าเป็นคนไข้หญิง =',PE1)"
      ],
      "metadata": {
        "id": "qtinCW0b_XeO",
        "colab": {
          "base_uri": "https://localhost:8080/"
        },
        "outputId": "4853b1d7-6a38-402b-ba10-941c9dc6fbaa"
      },
      "execution_count": 1,
      "outputs": [
        {
          "output_type": "stream",
          "name": "stdout",
          "text": [
            "   male  female  sum\n",
            "1     5      17   22\n",
            "2     8      12   20\n",
            "3    13       7   20\n",
            "4     9      15   24\n",
            "5    11       4   15\n",
            "6     3      12   15\n",
            "1.ความน่าจะเป็นที่คนไข้อยู่โรงพยาบาลอย่างน้อย 4 วัน เมื่อทราบว่าเป็นคนไข้หญิง = 31/67\n"
          ]
        }
      ]
    },
    {
      "cell_type": "code",
      "source": [
        "# 2.ในบันทึกของโรงพยาบาลแสดงจำนวนวันที่คนไข้พักรักษาตัวในโรงพยาบาล จากข้อ 1. จงหาความน่าจะเป็นที่คนไข้อยู่โรงพยาบาลอย่างมาก 3 วัน เมื่อทราบว่าเป็นคนไข้ชาย\n",
        "nS2 = df['male'].sum()\n",
        "nE2 = df.loc[1:3,'male'].sum()\n",
        "PE2 = Fraction(nE2,nS2)\n",
        "\n",
        "print('2.ความน่าจะเป็นที่คนไข้อยู่โรงพยาบาลอย่างมาก 3 วัน เมื่อทราบว่าเป็นคนไข้ชาย =',PE2)"
      ],
      "metadata": {
        "colab": {
          "base_uri": "https://localhost:8080/"
        },
        "id": "absABTJa_k1w",
        "outputId": "e2c8da6a-1302-40ab-ad6f-c374ca502ed3"
      },
      "execution_count": 2,
      "outputs": [
        {
          "output_type": "stream",
          "name": "stdout",
          "text": [
            "2.ความน่าจะเป็นที่คนไข้อยู่โรงพยาบาลอย่างมาก 3 วัน เมื่อทราบว่าเป็นคนไข้ชาย = 26/49\n"
          ]
        }
      ]
    },
    {
      "cell_type": "code",
      "source": [
        "# 3.ในบันทึกของโรงพยาบาลแสดงจำนวนวันที่คนไข้พักรักษาตัวในโรงพยาบาล จากข้อ 1. จงหาความน่าจะเป็นที่คนไข้เป็นคนไข้ชาย เมื่อทราบว่าเป็นคนไข้ที่อยู่โรงพยาบาล 2 วัน\n",
        "nS3 = df.at[2,'sum']\n",
        "nE3 = df.at[2,'male']\n",
        "PE3 = Fraction(nE3,nS3)\n",
        "\n",
        "print('3.ความน่าจะเป็นที่คนไข้เป็นคนไข้ชาย เมื่อทราบว่าเป็นคนไข้ที่อยู่โรงพยาบาล 2 วัน =',PE3)"
      ],
      "metadata": {
        "colab": {
          "base_uri": "https://localhost:8080/"
        },
        "id": "3vIgS1x8_z6s",
        "outputId": "7ad267c3-6a9b-404a-eff4-5761227141c0"
      },
      "execution_count": 3,
      "outputs": [
        {
          "output_type": "stream",
          "name": "stdout",
          "text": [
            "3.ความน่าจะเป็นที่คนไข้เป็นคนไข้ชาย เมื่อทราบว่าเป็นคนไข้ที่อยู่โรงพยาบาล 2 วัน = 2/5\n"
          ]
        }
      ]
    },
    {
      "cell_type": "code",
      "source": [
        "# 4.ทอดลูกเต๋า 1 ลูก 3 ครั้ง จงหาความน่าจะเป็นที่ลูกเต๋าจะไม่ขึ้นแต้ม 5 เลยแม้แต่ครั้งเดียว\n",
        "from itertools import product\n",
        "n = set(range(1,7))\n",
        "dice = set(product(n,repeat=3))\n",
        "nS = len(dice)\n",
        "no5 = {x for x in dice if x.count(5) == 0} #ไม่มีเลข 5\n",
        "Pno5 = Fraction(len(no5),nS)\n",
        "\n",
        "print('4.ความน่าจะเป็นที่ลูกเต๋าจะไม่ขึ้นแต้ม 5 เลยแม้แต่ครั้งเดียว P(no5) =',Pno5)"
      ],
      "metadata": {
        "colab": {
          "base_uri": "https://localhost:8080/"
        },
        "id": "F1XZ9kf5_1x1",
        "outputId": "8b15e595-4436-44c4-843a-cdcfbdcaff2d"
      },
      "execution_count": 4,
      "outputs": [
        {
          "output_type": "stream",
          "name": "stdout",
          "text": [
            "4.ความน่าจะเป็นที่ลูกเต๋าจะไม่ขึ้นแต้ม 5 เลยแม้แต่ครั้งเดียว P(no5) = 125/216\n"
          ]
        }
      ]
    },
    {
      "cell_type": "code",
      "source": [
        "# 5.ทอดลูกเต๋า 1 ลูก 3 ครั้ง จงหาความน่าจะเป็นที่ลูกเต๋าจะขึ้นแต้ม 5 อย่างน้อย 1 ครั้ง\n",
        "atleast1 = {x for x in dice if x.count(5) >= 1}\n",
        "Patleast1 = Fraction(len(atleast1),nS)\n",
        "print('5.ความน่าจะเป็นที่ลูกเต๋าจะขึ้นแต้ม 5 อย่างน้อย 1 ครั้ง =',Patleast1)\n",
        "print('5.ความน่าจะเป็นที่ลูกเต๋าจะขึ้นแต้ม 5 อย่างน้อย 1 ครั้ง =',1 - Pno5)"
      ],
      "metadata": {
        "colab": {
          "base_uri": "https://localhost:8080/"
        },
        "id": "z2veBEy9_3hd",
        "outputId": "76996437-6fa0-49fc-da03-cc4ff66ed28c"
      },
      "execution_count": 5,
      "outputs": [
        {
          "output_type": "stream",
          "name": "stdout",
          "text": [
            "5.ความน่าจะเป็นที่ลูกเต๋าจะขึ้นแต้ม 5 อย่างน้อย 1 ครั้ง = 91/216\n",
            "5.ความน่าจะเป็นที่ลูกเต๋าจะขึ้นแต้ม 5 อย่างน้อย 1 ครั้ง = 91/216\n"
          ]
        }
      ]
    },
    {
      "cell_type": "code",
      "source": [
        "# 6.กล่องใบหนึ่งมีหลอดไฟดี 4 หลอด และหลอดไฟเสีย 5 หลอดปนกัน สุ่มหยิบหลอดไฟ 2 ครั้ง โดยหยิบทีละหลอดแล้วใส่คืน จงหาความน่าจะเป็นที่ได้หลอดไฟดีในการหยิบครั้งแรกและครั้งที่สอง\n",
        "from itertools import combinations\n",
        "n1 = '1234'\n",
        "good = set('G' + a for a in n1)\n",
        "n2 = '12345'\n",
        "bad = set('B' + a for a in n2)\n",
        "\n",
        "all = good|bad\n",
        "print(\"All lamps = \",all)\n",
        "S=set(combinations(all,1))\n",
        "print('S =',S)\n",
        "nS = len(S)\n",
        "E1=set(combinations(good,1))\n",
        "print('E1 =',E1)\n",
        "nE1 = len(E1)\n",
        "E2=set(combinations(good,1))\n",
        "print('E2 =',E2)\n",
        "nE2 = len(E2)\n",
        "PE6 = Fraction(nE1,nS)*Fraction(nE2,nS)\n",
        "\n",
        "print('6.ความน่าจะเป็นที่ได้หลอดไฟดีในการหยิบครั้งแรกและครั้งที่สอง =',PE6)"
      ],
      "metadata": {
        "colab": {
          "base_uri": "https://localhost:8080/"
        },
        "id": "fDLVQ26Q_5O9",
        "outputId": "f7662ea8-e50c-4c2b-bda1-e9139acb3fc1"
      },
      "execution_count": 6,
      "outputs": [
        {
          "output_type": "stream",
          "name": "stdout",
          "text": [
            "All lamps =  {'B5', 'G2', 'B2', 'B1', 'G3', 'G4', 'G1', 'B3', 'B4'}\n",
            "S = {('G2',), ('G4',), ('B5',), ('B4',), ('B1',), ('G3',), ('B2',), ('B3',), ('G1',)}\n",
            "E1 = {('G1',), ('G2',), ('G4',), ('G3',)}\n",
            "E2 = {('G1',), ('G2',), ('G4',), ('G3',)}\n",
            "6.ความน่าจะเป็นที่ได้หลอดไฟดีในการหยิบครั้งแรกและครั้งที่สอง = 16/81\n"
          ]
        }
      ]
    },
    {
      "cell_type": "code",
      "source": [
        "# 7.กล่องใบหนึ่งมีหลอดไฟดี 4 หลอด และหลอดไฟเสีย 5 หลอดปนกัน สุ่มหยิบหลอดไฟ 3 ครั้ง โดยหยิบทีละหลอดแบบไม่ใส่คืน จงหาความน่าจะเป็นที่ได้หลอดไฟดีในการหยิบครั้งแรกและ และได้หลอดไฟเสียในการหยิบครั้งที่สอง และครั้งที่สาม\n",
        "from itertools import combinations\n",
        "n1 = '1234'\n",
        "good = set('G' + a for a in n1)\n",
        "n2 = '12345'\n",
        "bad = set('B' + a for a in n2)\n",
        "\n",
        "all = good|bad\n",
        "print(\"All lamps = \",all)\n",
        "\n",
        "t1 = Fraction(len(good),len(all))\n",
        "good.pop() # ลบสมาชิกในเซตหลอดไฟดี 1 ตัว\n",
        "all.pop() # ลบสมาชิกในหลอดไฟ 1 ตัว\n",
        "print('ความน่าจะเป็นที่ได้หลอดไฟดีในการหยิบครั้งแรก',t1)\n",
        "\n",
        "t2 = Fraction(len(bad),len(all))\n",
        "bad.pop() # ลบสมาชิกในเซตหลอดไฟเสีย 1 ตัว\n",
        "all.pop() # ลบสมาชิกในหลอดไฟ 1 ตัว\n",
        "print('ความน่าจะเป็นที่ได้หลอดไฟเสียในการหยิบครั้งที่สอง',t2)\n",
        "\n",
        "t3 = Fraction(len(bad),len(all))\n",
        "bad.pop() # ลบสมาชิกในเซตหลอดไฟเสีย 1 ตัว\n",
        "all.pop() # ลบสมาชิกในหลอดไฟ 1 ตัว\n",
        "print('ความน่าจะเป็นที่ได้หลอดไฟเสียในการหยิบครั้งที่สาม',t3)\n",
        "\n",
        "print(\"All lamps = \",all)\n",
        "PE7 = t1*t2*t3\n",
        "\n",
        "print('7.ความน่าจะเป็นที่ได้หลอดไฟดีในการหยิบครั้งแรกและ และได้หลอดไฟเสียในการหยิบครั้งที่สอง และครั้งที่สาม =',PE7)"
      ],
      "metadata": {
        "colab": {
          "base_uri": "https://localhost:8080/"
        },
        "id": "v8BkqtSr_9gi",
        "outputId": "eb1d5680-172f-4aa8-ebc1-a90c2ba91c44"
      },
      "execution_count": 7,
      "outputs": [
        {
          "output_type": "stream",
          "name": "stdout",
          "text": [
            "All lamps =  {'B5', 'G2', 'B2', 'B1', 'G3', 'G4', 'G1', 'B3', 'B4'}\n",
            "ความน่าจะเป็นที่ได้หลอดไฟดีในการหยิบครั้งแรก 4/9\n",
            "ความน่าจะเป็นที่ได้หลอดไฟเสียในการหยิบครั้งที่สอง 5/8\n",
            "ความน่าจะเป็นที่ได้หลอดไฟเสียในการหยิบครั้งที่สาม 4/7\n",
            "All lamps =  {'B1', 'G3', 'G4', 'G1', 'B3', 'B4'}\n",
            "7.ความน่าจะเป็นที่ได้หลอดไฟดีในการหยิบครั้งแรกและ และได้หลอดไฟเสียในการหยิบครั้งที่สอง และครั้งที่สาม = 10/63\n"
          ]
        }
      ]
    },
    {
      "cell_type": "code",
      "source": [],
      "metadata": {
        "id": "8ze5Or1K_9-e"
      },
      "execution_count": null,
      "outputs": []
    }
  ]
}