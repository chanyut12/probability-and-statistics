{
  "nbformat": 4,
  "nbformat_minor": 0,
  "metadata": {
    "colab": {
      "provenance": [],
      "include_colab_link": true
    },
    "kernelspec": {
      "name": "python3",
      "display_name": "Python 3"
    },
    "language_info": {
      "name": "python"
    }
  },
  "cells": [
    {
      "cell_type": "markdown",
      "metadata": {
        "id": "view-in-github",
        "colab_type": "text"
      },
      "source": [
        "<a href=\"https://colab.research.google.com/github/chanyut12/probability-and-statistics/blob/main/66160295_w8_G2.ipynb\" target=\"_parent\"><img src=\"https://colab.research.google.com/assets/colab-badge.svg\" alt=\"Open In Colab\"/></a>"
      ]
    },
    {
      "cell_type": "markdown",
      "metadata": {
        "id": "Nsp-ax1cvo-f"
      },
      "source": [
        "**ให้นิสิต เลือกเมนู File-->Save a copy in drive เพื่อคัดลอกไฟล์ไปไว้ในไดร์ฟของนิสิตก่อน และเปลี่ยนชื่อไฟล์เป็น รหัสนิสิต_w8 ค่ะ**\n",
        "\n",
        "จงเขียนโปรแกรมเพื่อหาค่าที่โจทย์ต้องการและแสดงผลลัพธ์ออกทางหน้าจอ\n",
        "\n",
        "1. ในการศึกษาถึงผลของการโฆษณาทางทีวี จึงสอบถามลูกค้า 20 คน ว่ารู้จักสินค้าของบริษัทจากสื่อใด โดยพบว่ามีลูกค้า 4 คนที่รู้จักสินค้าจากการโฆษณาทางทีวี หากทำการสุ่มลูกค้ามา 1 คน\n",
        "\n",
        "\n",
        "1.1 จงหาความน่าจะเป็นที่เป็นลูกค้าที่รู้จักสินค้าจากการโฆษณาทางทีวี และความน่าจะเป็นที่ลูกค้ารู้จักสินค้าจากสื่ออื่น และสร้างกราฟความน่าจะเป็นของการได้ลูกค้าที่รู้จักสินค้าผ่านช่องทางโฆษณาทางทีวี และสื่ออื่น\n",
        "\n",
        "1.2 จงหาค่าเฉลี่ยและความแปรปรวนของการสุ่มได้ลูกค้าที่รู้จักสินค้าจากการโฆษณาทางทีวี\n",
        "\n",
        "\n",
        "\n",
        "2. จากประสบการณ์ที่ผ่านมาพบว่าในช่วงเวลา 10.00 - 11.00 น ในแต่ละวัน จะมีลูกค้ามาใช้บริการที่ตู้จำหน่ายเครื่องดื่มเต่าบิน โดยเฉลี่ย 2 คนต่อนาที จงหาความน่าจะเป็นที่จะมีลูกค้ามาใช้บริการ ในเวลา 1 นาทีของช่วงเวลาดังกล่าว\n",
        "\n",
        "\n",
        "2.1 จงเขียนโปรแกรมเพื่อสร้างกราฟการแจกแจงความน่าจะเป็นของจำนวนลูกค้าที่มาใช้บริการ\n",
        "\n",
        "2.2 ความน่าจะเป็นที่ใน 3 นาทีจะมีลูกค้ามาใช้บริการอย่างมาก 4 คน    \n",
        "\n",
        "\n",
        "2.3 ความน่าจะเป็นที่จะมีลูกค้ามาใช้บริการ 9 คน ในเวลา 5 นาที\n",
        "\n",
        "\n",
        "2.4 ความน่าจะเป็นที่จะะมีลูกค้ามาใช้บริการน้อยกว่า 6 คน ใน 1 นาที\n",
        "\n",
        "2.5 ความน่าจะเป็นที่จะะมีลูกค้ามาใช้บริการตั้งแต่ 2 คนขึ้นไป แต่น้อยกว่า 7 คน ใน 1 นาที\n",
        "\n",
        "2.6 ความน่าจะเป็นที่จะะมีลูกค้ามาใช้บริการมากกว่า 16 คน ใน 1 สัปดาห์\n",
        "\n",
        "2.7 จงหาว่าจะต้องมีลูกค้ามาใช้บริการมากที่สุดกี่คนใน 1 นาที หากกำหนดให้ค่าความน่าจะเป็นสะสมที่ะมีลูกค้ามาใช้บริการอย่างมากที่สุด a คนเท่ากับ 0.8124\n",
        "\n",
        "2.8 จงหาค่าเฉลี่ย ความแปรปรวน และส่วนเบี่ยงเบนมาตรฐานของจำนวนลูกค้าที่มาใช้บริการใน 1 นาที\n",
        "\n",
        "\n"
      ]
    },
    {
      "cell_type": "code",
      "execution_count": 17,
      "metadata": {
        "id": "osbhkNyfuEH8"
      },
      "outputs": [],
      "source": [
        "#ชื่อ.....................................รหัส......."
      ]
    },
    {
      "cell_type": "code",
      "source": [
        "#1\n",
        "#1.1 จงหาความน่าจะเป็นที่เป็นลูกค้าที่รู้จักสินค้าจากการโฆษณาทางทีวี และความน่าจะเป็นที่ลูกค้ารู้จักสินค้าจากสื่ออื่น และสร้างกราฟความน่าจะเป็นของการได้ลูกค้าที่รู้จักสินค้าผ่านช่องทางโฆษณาทางทีวี และสื่ออื่น\n",
        "\n",
        "from scipy.stats import binom\n",
        "import matplotlib.pyplot as plt\n",
        "n = 20\n",
        "\n",
        "p_TV = 4 / n  # 4 out of 20 customers know from TV\n",
        "\n",
        "x_values = list(range(n + 1))\n",
        "dist = [binom.pmf(x, n, p_TV) for x in x_values]\n",
        "\n",
        "print(\"x\\tP(x) for TV Advertising\")\n",
        "for i in range(n + 1):\n",
        "    print(x_values[i], \"\\t\", dist[i])\n",
        "\n",
        "plt.figure(figsize=(10, 6))\n",
        "plt.bar(x_values, dist, width=0.5, color='blue')\n",
        "plt.title('Distribution of Customers Knowing the Product Through TV Advertising')\n",
        "plt.xlabel('Number of Customers (x)')\n",
        "plt.ylabel('Probability P(x)')\n",
        "plt.show()\n",
        "\n",
        "\n"
      ],
      "metadata": {
        "colab": {
          "base_uri": "https://localhost:8080/",
          "height": 946
        },
        "id": "oUEj9eq-CGQE",
        "outputId": "2b1af226-ac38-4a20-d059-a52f81dc4f5a"
      },
      "execution_count": 18,
      "outputs": [
        {
          "output_type": "stream",
          "name": "stdout",
          "text": [
            "x\tP(x) for TV Advertising\n",
            "0 \t 0.01152921504606848\n",
            "1 \t 0.05764607523034237\n",
            "2 \t 0.13690942867206338\n",
            "3 \t 0.20536414300809475\n",
            "4 \t 0.2181994019461005\n",
            "5 \t 0.17455952155688056\n",
            "6 \t 0.1090997009730505\n",
            "7 \t 0.0545498504865252\n",
            "8 \t 0.02216087676015083\n",
            "9 \t 0.007386958920050288\n",
            "10 \t 0.0020314137030138283\n",
            "11 \t 0.000461684932503143\n",
            "12 \t 8.65659248443393e-05\n",
            "13 \t 1.3317834591436816e-05\n",
            "14 \t 1.6647293239296027e-06\n",
            "15 \t 1.6647293239296013e-07\n",
            "16 \t 1.3005697843200012e-08\n",
            "17 \t 7.650410496000016e-10\n",
            "18 \t 3.1876710400000057e-11\n",
            "19 \t 8.388608000000003e-13\n",
            "20 \t 1.0485760000000012e-14\n"
          ]
        },
        {
          "output_type": "display_data",
          "data": {
            "text/plain": [
              "<Figure size 1000x600 with 1 Axes>"
            ],
            "image/png": "[encoded data removed]"
          },
          "metadata": {}
        }
      ]
    },
    {
      "cell_type": "code",
      "source": [
        "#1.2 จงหาค่าเฉลี่ยและความแปรปรวนของการสุ่มได้ลูกค้าที่รู้จักสินค้าจากการโฆษณาทางทีวี\n",
        "mean = binom.mean(n, p_TV)\n",
        "variance = binom.var(n, p_TV)\n",
        "\n",
        "print(\"mean = \",mean, \" varience = \", variance)"
      ],
      "metadata": {
        "colab": {
          "base_uri": "https://localhost:8080/"
        },
        "id": "lTDXpwaPConx",
        "outputId": "d92e572a-3027-464e-bd69-bdaffc99e865"
      },
      "execution_count": 19,
      "outputs": [
        {
          "output_type": "stream",
          "name": "stdout",
          "text": [
            "mean =  4.0  varience =  3.2\n"
          ]
        }
      ]
    },
    {
      "cell_type": "code",
      "source": [
        "#2.จากประสบการณ์ที่ผ่านมาพบว่าในช่วงเวลา 10.00 - 11.00 น ในแต่ละวัน จะมีลูกค้ามาใช้บริการที่ตู้จำหน่ายเครื่องดื่มเต่าบิน โดยเฉลี่ย 2 คนต่อนาที จงหาความน่าจะเป็นที่จะมีลูกค้ามาใช้บริการ ในเวลา 1 นาทีของช่วงเวลาดังกล่าว\n",
        "from scipy.stats import poisson\n",
        "import numpy as np\n",
        "\n",
        "lambda_per_minute = 2  # Average number of customers per minute\n",
        "\n",
        "# 2.1จงเขียนโปรแกรมเพื่อสร้างกราฟการแจกแจงความน่าจะเป็นของจำนวนลูกค้าที่มาใช้บริการ\n",
        "max_customers = 10  # Define a reasonable upper limit for visualization\n",
        "x_values = np.arange(0, max_customers)\n",
        "prob_dist = poisson.pmf(x_values, lambda_per_minute)\n",
        "\n",
        "plt.figure(figsize=(10, 6)) # size of graph\n",
        "plt.bar(x_values, prob_dist, color='blue') # define each of x_label and y_label\n",
        "plt.title('Probability Distribution of Number of Customers in 1 Minute') #define title name\n",
        "plt.xlabel('Number of Customers')\n",
        "plt.ylabel('Probability')\n",
        "plt.show() # show\n"
      ],
      "metadata": {
        "colab": {
          "base_uri": "https://localhost:8080/",
          "height": 564
        },
        "id": "WyBFIZr9FOOQ",
        "outputId": "ba666e17-6e9f-4b2e-cb2c-ff8dca777419"
      },
      "execution_count": 20,
      "outputs": [
        {
          "output_type": "display_data",
          "data": {
            "text/plain": [
              "<Figure size 1000x600 with 1 Axes>"
            ],
            "image/png": "[encoded data removed]"
          },
          "metadata": {}
        }
      ]
    },
    {
      "cell_type": "code",
      "source": [
        "# 2.2 Probability of at least 4 customers in 3 minutes\n",
        "# 2.2 ความน่าจะเป็นที่ใน 3 นาทีจะมีลูกค้ามาใช้บริการอย่างมาก 4 คน\n",
        "lambda_3_minutes = 3 * lambda_per_minute  # Average rate for 3 minutes\n",
        "prob_at_least_4_in_3_min = 1 - poisson.cdf(3, lambda_3_minutes)\n",
        "print(\"ความน่าจะเป็นที่ใน 3 นาทีจะมีลูกค้ามาใช้บริการอย่างมาก 4 คน = \",prob_at_least_4_in_3_min)"
      ],
      "metadata": {
        "colab": {
          "base_uri": "https://localhost:8080/"
        },
        "id": "abs7UChRGdRq",
        "outputId": "c0126e42-9526-4c13-dfeb-ac9dd2ffcc54"
      },
      "execution_count": 21,
      "outputs": [
        {
          "output_type": "stream",
          "name": "stdout",
          "text": [
            "ความน่าจะเป็นที่ใน 3 นาทีจะมีลูกค้ามาใช้บริการอย่างมาก 4 คน =  0.8487961172233521\n"
          ]
        }
      ]
    },
    {
      "cell_type": "code",
      "source": [
        "# 2.3 Probability of exactly 9 customers in 5 minutes\n",
        "# 2.3 ความน่าจะเป็นที่จะมีลูกค้ามาใช้บริการ 9 คน ในเวลา 5 นาที\n",
        "lambda_5_minutes = 5 * lambda_per_minute\n",
        "prob_exactly_9_in_5_min = poisson.pmf(9, lambda_5_minutes)\n",
        "print(\"ความน่าจะเป็นที่จะมีลูกค้ามาใช้บริการ 9 คน ในเวลา 5 นาที = \",prob_exactly_9_in_5_min)"
      ],
      "metadata": {
        "colab": {
          "base_uri": "https://localhost:8080/"
        },
        "id": "7KYHSiTMGdvA",
        "outputId": "f838db6f-5c49-4866-ce79-01795df72aee"
      },
      "execution_count": 22,
      "outputs": [
        {
          "output_type": "stream",
          "name": "stdout",
          "text": [
            "ความน่าจะเป็นที่จะมีลูกค้ามาใช้บริการ 9 คน ในเวลา 5 นาที =  0.12511003572113372\n"
          ]
        }
      ]
    },
    {
      "cell_type": "code",
      "source": [
        "# 2.4 Probability of fewer than 6 customers in 1 minute\n",
        "# 2.4 ความน่าจะเป็นที่จะะมีลูกค้ามาใช้บริการน้อยกว่า 6 คน ใน 1 นาที\n",
        "prob_less_than_6_in_1_min = poisson.cdf(5, lambda_per_minute)\n",
        "print(\"ความน่าจะเป็นที่จะะมีลูกค้ามาใช้บริการน้อยกว่า 6 คน ใน 1 นาที = \",prob_less_than_6_in_1_min)"
      ],
      "metadata": {
        "colab": {
          "base_uri": "https://localhost:8080/"
        },
        "id": "tRQUZ3DfGeCJ",
        "outputId": "99c99883-7924-429c-93b2-7977bd3f3acf"
      },
      "execution_count": 23,
      "outputs": [
        {
          "output_type": "stream",
          "name": "stdout",
          "text": [
            "ความน่าจะเป็นที่จะะมีลูกค้ามาใช้บริการน้อยกว่า 6 คน ใน 1 นาที =  0.9834363915193856\n"
          ]
        }
      ]
    },
    {
      "cell_type": "code",
      "source": [
        "# 2.5 Probability of 2 or more, but less than 7 customers in 1 minute\n",
        "# 2.5 ความน่าจะเป็นที่จะะมีลูกค้ามาใช้บริการตั้งแต่ 2 คนขึ้นไป แต่น้อยกว่า 7 คน ใน 1 นาที\n",
        "prob_2_to_6_in_1_min = poisson.cdf(6, lambda_per_minute) - poisson.pmf(1, lambda_per_minute)\n",
        "print(\"ความน่าจะเป็นที่จะะมีลูกค้ามาใช้บริการตั้งแต่ 2 คนขึ้นไป แต่น้อยกว่า 7 คน ใน 1 นาที = \",prob_2_to_6_in_1_min)"
      ],
      "metadata": {
        "colab": {
          "base_uri": "https://localhost:8080/"
        },
        "id": "gu1r4PbJGeRO",
        "outputId": "8c0ce0e2-2a34-4974-e3cf-233e9b392730"
      },
      "execution_count": 24,
      "outputs": [
        {
          "output_type": "stream",
          "name": "stdout",
          "text": [
            "ความน่าจะเป็นที่จะะมีลูกค้ามาใช้บริการตั้งแต่ 2 คนขึ้นไป แต่น้อยกว่า 7 คน ใน 1 นาที =  0.7247956280005258\n"
          ]
        }
      ]
    },
    {
      "cell_type": "code",
      "source": [
        "# 2.6 Probability of more than 16 customers in a week\n",
        "# Assuming 60 minutes per hour, 1 hour per day, 7 days per week\n",
        "# 2.6 ความน่าจะเป็นที่จะะมีลูกค้ามาใช้บริการมากกว่า 16 คน ใน 1 สัปดาห์\n",
        "lambda_per_week = 60 * 1 * 7 * lambda_per_minute\n",
        "prob_more_than_16_in_week = 1 - poisson.cdf(16, lambda_per_week)\n",
        "print(\"2.6 ความน่าจะเป็นที่จะะมีลูกค้ามาใช้บริการมากกว่า 16 คน ใน 1 สัปดาห์ = \",prob_more_than_16_in_week)"
      ],
      "metadata": {
        "colab": {
          "base_uri": "https://localhost:8080/"
        },
        "id": "VpKTACjjGeh4",
        "outputId": "146bfb23-789f-4a19-cfe2-8329005b37a9"
      },
      "execution_count": 25,
      "outputs": [
        {
          "output_type": "stream",
          "name": "stdout",
          "text": [
            "2.6 ความน่าจะเป็นที่จะะมีลูกค้ามาใช้บริการมากกว่า 16 คน ใน 1 สัปดาห์ =  1.0\n"
          ]
        }
      ]
    },
    {
      "cell_type": "code",
      "source": [
        "# 2.7 Number of customers for a cumulative probability of 0.8124\n",
        "# 2.7 จงหาว่าจะต้องมีลูกค้ามาใช้บริการมากที่สุดกี่คนใน 1 นาที หากกำหนดให้ค่าความน่าจะเป็นสะสมที่ะมีลูกค้ามาใช้บริการอย่างมากที่สุด a คนเท่ากับ 0.8124\n",
        "cumulative_prob = 0.8124\n",
        "customers_for_cumulative_prob = poisson.ppf(cumulative_prob, lambda_per_minute)\n",
        "print(\"จะต้องมีลูกค้ามาใช้บริการมากที่สุด = \" , customers_for_cumulative_prob)"
      ],
      "metadata": {
        "colab": {
          "base_uri": "https://localhost:8080/"
        },
        "id": "OpE4om9IGeyi",
        "outputId": "b144682b-49af-4e41-de51-7b09d1734ce0"
      },
      "execution_count": 26,
      "outputs": [
        {
          "output_type": "stream",
          "name": "stdout",
          "text": [
            "จะต้องมีลูกค้ามาใช้บริการมากที่สุด =  3.0\n"
          ]
        }
      ]
    },
    {
      "cell_type": "code",
      "source": [
        "# 2.8 Mean, variance, and standard deviation in 1 minute\n",
        "# 2.8 จงหาค่าเฉลี่ย ความแปรปรวน และส่วนเบี่ยงเบนมาตรฐานของจำนวนลูกค้าที่มาใช้บริการใน 1 นาที\n",
        "mean = poisson.mean(lambda_per_minute)\n",
        "variance = poisson.var(lambda_per_minute)\n",
        "std_dev = poisson.std(lambda_per_minute)\n",
        "print(\"mean = \" , mean)\n",
        "print(\"variance = \" , variance)\n",
        "print(\"std_dev = \" , std_dev)"
      ],
      "metadata": {
        "colab": {
          "base_uri": "https://localhost:8080/"
        },
        "id": "e1PJwngnGfEN",
        "outputId": "114e0374-be44-454a-de23-6b1eca447282"
      },
      "execution_count": 28,
      "outputs": [
        {
          "output_type": "stream",
          "name": "stdout",
          "text": [
            "mean =  2.0\n",
            "variance =  2.0\n",
            "std_dev =  1.4142135623730951\n"
          ]
        }
      ]
    }
  ]
}